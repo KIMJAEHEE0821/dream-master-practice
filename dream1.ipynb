{
 "cells": [
  {
   "cell_type": "markdown",
   "metadata": {},
   "source": [
    "### Preliminaries"
   ]
  },
  {
   "cell_type": "code",
   "execution_count": 1,
   "metadata": {},
   "outputs": [],
   "source": [
    "# Preliminaries to setup the notebook.  \n",
    "%matplotlib inline\n",
    "%load_ext autoreload\n",
    "%autoreload 2\n",
    "\n",
    "# Import numerical libraries.  \n",
    "import numpy as np\n",
    "import matplotlib.pyplot as plt\n",
    "from scipy.stats import pearsonr\n",
    "from sklearn.ensemble import RandomForestRegressor,ExtraTreesRegressor\n",
    "from sklearn.model_selection import ShuffleSplit,cross_val_score\n",
    "from sklearn.model_selection import GridSearchCV"
   ]
  },
  {
   "cell_type": "code",
   "execution_count": 2,
   "metadata": {},
   "outputs": [],
   "source": [
    "# Import the file I wrote to load the data from the tab-delimited text files.  \n",
    "import dream\n",
    "import loading\n",
    "import scoring\n",
    "import fit1"
   ]
  },
  {
   "cell_type": "code",
   "execution_count": 3,
   "metadata": {},
   "outputs": [
    {
     "name": "stdout",
     "output_type": "stream",
     "text": "['Compound Identifier', 'Odor', 'Replicate', 'Intensity', 'Dilution', 'subject #', 'INTENSITY/STRENGTH', 'VALENCE/PLEASANTNESS', 'BAKERY', 'SWEET', 'FRUIT', 'FISH', 'GARLIC', 'SPICES', 'COLD', 'SOUR', 'BURNT', 'ACID', 'WARM', 'MUSKY', 'SWEATY', 'AMMONIA/URINOUS', 'DECAYED', 'WOOD', 'GRASS', 'FLOWER', 'CHEMICAL']\n"
    }
   ],
   "source": [
    "# Load the perceptual descriptors data.  \n",
    "perceptual_headers, perceptual_obs_data = loading.load_perceptual_data('training')\n",
    "#여기서 training 은 train_set 데이터를 가리킨다. 따라서 perceptual data는 train_set의 데이터값들을 나타낸다. \n",
    "loading.format_leaderboard_perceptual_data()\n",
    "# Show the perceptual metadata types and perceptual descriptor names.\n",
    "print(perceptual_headers)"
   ]
  },
  {
   "cell_type": "code",
   "execution_count": 4,
   "metadata": {},
   "outputs": [
    {
     "name": "stdout",
     "output_type": "stream",
     "text": "['126', '4-Hydroxybenzaldehyde', False, 'high', '1/10', '1', 37, 60, 0, 72, 0, 0, 0, 0, 0, 0, 0, 0, 0, 0, 0, 0, 0, 0, 0, 0, 0]\n"
    }
   ],
   "source": [
    "# Show the metadata and perceptual descriptor values for the first compound.\n",
    "print(perceptual_obs_data[1])"
   ]
  },
  {
   "cell_type": "code",
   "execution_count": 5,
   "metadata": {},
   "outputs": [
    {
     "name": "stdout",
     "output_type": "stream",
     "text": "There are 21 different perceptual descriptors and 49 different subjects\n"
    }
   ],
   "source": [
    "num_descriptors = len(perceptual_headers[6:])\n",
    "#dream.NUM_DESCRIPTORS가 무엇인지 도저히 모르겠다. 알아보자.\n",
    "#assert는 조건문 으로써 assert다음에 오는 문장이 참이 아님면 밑으로 실행이 되지 않는다. \n",
    "assert num_descriptors == dream.NUM_DESCRIPTORS\n",
    "num_subjects = dream.NUM_SUBJECTS\n",
    "print('There are %d different perceptual descriptors and %d different subjects' % (num_descriptors,num_subjects))"
   ]
  },
  {
   "cell_type": "code",
   "execution_count": 6,
   "metadata": {},
   "outputs": [
    {
     "name": "stdout",
     "output_type": "stream",
     "text": "4870\n476\nFirst ten molecular descriptor types are ['CID', 'complexity from pubmed', 'MW', 'AMW', 'Sv', 'Se', 'Sp', 'Si', 'Mv', 'Me']\nFirst ten descriptor values for the first compound are ['126', 93.1, 122.13, 8.142, 10.01, 15.305, 10.193, 16.664, 0.667, 1.02]\nWe have molecular descriptors for 476 unique molecules\n"
    }
   ],
   "source": [
    "# Load the molecular descriptors data.  \n",
    "#아래의 코드는 molecular_descriptors_data.txt텍스트를 여는 코드이다. \n",
    "molecular_headers, molecular_data = loading.load_molecular_data()\n",
    "#feature(x)의 개수 4870\n",
    "#y의 개수 476\n",
    "print(len(molecular_headers)) \n",
    "print(len(molecular_data))\n",
    "print(\"First ten molecular descriptor types are %s\" % molecular_headers[:10])\n",
    "print(\"First ten descriptor values for the first compound are %s\" % molecular_data[0][:10])\n",
    "total_size = len(set([int(row[0]) for row in molecular_data]))\n",
    "print(\"We have molecular descriptors for %d unique molecules\" % total_size)"
   ]
  },
  {
   "cell_type": "code",
   "execution_count": 7,
   "metadata": {},
   "outputs": [
    {
     "name": "stdout",
     "output_type": "stream",
     "text": "There are 35084 rows in the perceptual data set (at least one for each subject and molecule)\n1960 of these are replicates (same subject and molecules)\n"
    }
   ],
   "source": [
    "#정확하게 len(perceptual_obs_data) 는 총 데이터의 수 \n",
    "print(\"There are %d rows in the perceptual data set (at least one for each subject and molecule)\" % len(perceptual_obs_data))\n",
    "print(\"%d of these are replicates (same subject and molecules)\" % sum([x[2] for x in perceptual_obs_data]))"
   ]
  },
  {
   "cell_type": "markdown",
   "metadata": {},
   "source": [
    "### Create Molecular Matrix"
   ]
  },
  {
   "cell_type": "code",
   "execution_count": 8,
   "metadata": {},
   "outputs": [
    {
     "name": "stdout",
     "output_type": "stream",
     "text": "{8193, 6658, 31234, 220674, 1032, 8712, 12297, 12810, 31244, 12813, 31246, 7695, 31249, 85522, 8723, 15380, 31252, 521238, 1049, 7194, 98330, 31260, 31265, 31268, 4133, 12327, 6184, 7720, 9256, 31272, 1068, 9261, 10285, 10797, 444972, 5364729, 7731, 24116, 638014, 21057, 6213, 7749, 60999, 61005, 78925, 7761, 7762, 8785, 7765, 1110, 61527, 7768, 23642, 8797, 6753, 5363388, 61027, 520296, 5362798, 1136, 7795, 62580, 17525, 7799, 7288, 61048, 18554, 7803, 10364, 61052, 126, 11902, 444539, 637563, 10882, 637566, 6276, 24197, 9862, 62087, 440967, 650, 10890, 6287, 7824, 10895, 21648, 5779, 660, 5780, 15510, 101010, 6429333, 8857, 14491, 1183, 10400, 11428, 2214, 7335, 8363, 31404, 7341, 10925, 176, 177, 14514, 3578033, 8375, 8892, 14525, 10430, 15037, 3776, 7360, 7361, 23235, 196, 62144, 2758, 93375, 5280450, 61641, 61130, 18635, 8908, 11980, 10448, 17617, 8914, 61138, 61653, 7894, 8918, 12506, 26331, 61659, 17121, 1549026, 101604, 6374, 61670, 7915, 7916, 643820, 239, 240, 241, 7410, 7921, 244, 13561, 7937, 24834, 61185, 261, 11525, 263, 6920, 8456, 11527, 11529, 61192, 62725, 444683, 61199, 5368076, 104721, 439570, 61204, 14104, 61209, 526618, 5362814, 6943, 7967, 7969, 5363491, 12580, 5365027, 22310, 807, 7463, 2345, 2346, 12587, 165675, 61229, 7983, 6448, 11569, 82227, 92979, 3893, 5315892, 311, 7991, 9016, 5365049, 10748, 7997, 5950, 2879, 11583, 9025, 12097, 27457, 27458, 325, 326, 8007, 5960, 5961, 69963, 7500, 11086, 145742, 159055, 170833, 32594, 637776, 6997, 6998, 22873, 8030, 7519, 11614, 11617, 89440, 356, 6501, 15717, 16741, 637796, 6505, 8042, 875, 61293, 19310, 61945, 61809, 62835, 519539, 9589, 887, 379, 62332, 5273467, 8063, 16255, 88454, 9609, 18827, 556940, 8077, 61325, 641423, 1551246, 8082, 7059, 12178, 6549, 12180, 14228, 61331, 2969, 61337, 8091, 235414, 8093, 5362588, 7583, 6560, 228769, 6050, 5367706, 5541, 6054, 8103, 62374, 6057, 6569, 7593, 62375, 31225, 62378, 6999977, 14257, 62900, 8118, 7095, 6584, 62902, 8122, 8635, 565690, 957, 6590, 8125, 8129, 24513, 16324, 12741, 246728, 61386, 460, 14286, 7119, 7122, 7635, 8658, 36822, 7127, 14296, 595928, 6106, 61918, 7136, 61408, 994, 5366244, 7654, 7144, 1001, 5610, 7147, 31209, 62444, 7150, 7151, 8174, 106997, 8184, 8697, 8186, 6140, 7165, 520191}\n338\nWe have perceptual data for 338 unique molecules\n138 are left out for testing in the competition; half of these (69) are used for the leaderboard.\n"
    }
   ],
   "source": [
    "training_size = len(set([int(row[0]) for row in perceptual_obs_data]))\n",
    "#perceptual_data에서 하나씩 뽑아와서 row\n",
    "print(set([int(row[0]) for row in perceptual_obs_data]))\n",
    "#위의 코드는 len(set([int(row[0]) for row in perceptual_obs_data]))의 결과가 어떻게 되는지 보려고 삽입함. 좀더 알아보자. row[0]이 이해안됨\n",
    "print(training_size)\n",
    "#training_size의 크기 보려고 입력함 위에서 처럼 set으로 받으면 중복 없애 주어서 실험용 분자의 개수를 알 수 있다.\n",
    "\n",
    "print(\"We have perceptual data for %d unique molecules\" % training_size)\n",
    "remaining_size = total_size - training_size\n",
    "print (\"%d are left out for testing in the competition; half of these (%d) are used for the leaderboard.\" \\\n",
    "       % (remaining_size,remaining_size/2))"
   ]
  },
  {
   "cell_type": "code",
   "execution_count": 9,
   "metadata": {},
   "outputs": [],
   "source": [
    "import pandas as pd\n",
    "#import sys\n",
    "#위의 sys는 필요 없어서 지움\n",
    "#밑의 print들은 원하는대로 바뀌었는지 검사하는 과정"
   ]
  },
  {
   "cell_type": "code",
   "execution_count": 10,
   "metadata": {},
   "outputs": [
    {
     "name": "stdout",
     "output_type": "stream",
     "text": "Getting CIDs and dilutions...\nGetting basic molecular data...\nAdding dilution data...\nThere are now 676 molecular vectors of length 4871, one for each molecule and dilution\nBuilding a matrix...\nThe X matrix has shape (676x4871) (molecules by molecular descriptors)\nPurging data with too many NaNs...\nThe X matrix has shape (676x4871) (molecules by good molecular descriptors)\nImputing remaining NaN data...\nThe X matrix now has shape (676x4871) (molecules by non-NaN good molecular descriptors)\nPurging data that is still bad, if any...\nThe X matrix has shape (676x3033) (molecules by good molecular descriptors)\nNormalizing data for fitting...\nThe X matrix now has shape (676x3033) molecules by non-NaN good molecular descriptors\n"
    }
   ],
   "source": [
    "X_training,good1,good2,means,stds,imputer = dream.make_X(molecular_data,\"training\")\n",
    "#dream.make_X해석하기, 특히 assert kind in ['training','leaderboard','testset']이게 뭔지 알기. <-알아서 설명 적어둠\n",
    "X_training.shape\n",
    "#if type(\"training\") is str:\n",
    "    #training = [\"training\"]\n",
    "#rint(type(training))\n",
    "#print(\"training\")\n",
    "#print(training)\n",
    "\n",
    "#밑의 코드는 위의 결과를 csv파일로 저장하는 과정이다. \n",
    "df_X_training = pd.DataFrame(data = X_training)\n",
    "df_X_training.to_csv('결과1/X_training.csv')\n",
    "\n",
    "df_X_training_good1 = pd.DataFrame(data = good1)\n",
    "df_X_training_good1.to_csv('결과1/X_training_good1.csv')\n",
    "\n",
    "df_X_training_good2 = pd.DataFrame(data = good2)\n",
    "df_X_training_good2.to_csv('결과1/X_training_good2.csv')\n",
    "\n",
    "df_X_training_means = pd.DataFrame(data = means)\n",
    "df_X_training_means.to_csv('결과1/X_training_means.csv')\n",
    "\n",
    "df_X_training_stds = pd.DataFrame(data = stds)\n",
    "df_X_training_stds.to_csv('결과1/X_training_stds.csv')"
   ]
  },
  {
   "cell_type": "code",
   "execution_count": 11,
   "metadata": {},
   "outputs": [
    {
     "name": "stdout",
     "output_type": "stream",
     "text": "0         1         2         3         4         5         6     \\\n0   -0.097027 -0.453737  0.581957 -0.638775 -0.920075 -0.810565 -0.998679   \n1   -0.097027 -0.453737  0.581957 -0.638775 -0.920075 -0.810565 -0.998679   \n2   -1.380812 -2.303775  0.360150 -2.486655 -2.205301 -2.673468 -2.213874   \n3   -1.380812 -2.303775  0.360150 -2.486655 -2.205301 -2.673468 -2.213874   \n4   -2.272064 -2.983815 -0.102210 -2.825315 -2.529353 -2.879935 -2.469563   \n..        ...       ...       ...       ...       ...       ...       ...   \n671  0.500907  0.575051 -0.360776  0.724985  0.831187  0.752246  0.844477   \n672  0.645542  0.088929  0.158888  0.153410 -0.160561  0.099693 -0.194121   \n673  0.645542  0.088929  0.158888  0.153410 -0.160561  0.099693 -0.194121   \n674  0.018099  0.089142 -0.184785  0.040156  0.250776 -0.015968  0.244074   \n675  0.018099  0.089142 -0.184785  0.040156  0.250776 -0.015968  0.244074   \n\n         7         8         9     ...      3023      3024      3025  \\\n0    1.282713  1.231423  0.532590  ... -0.244051 -0.054473 -0.478634   \n1    1.282713  1.231423  0.532590  ... -0.244051 -0.054473 -0.478634   \n2   -0.201101  2.792361 -0.744244  ... -0.244051 -0.054473 -0.478634   \n3   -0.201101  2.792361 -0.744244  ... -0.244051 -0.054473 -0.478634   \n4   -0.529195  0.944013 -0.593371  ... -0.244051 -0.054473 -0.478634   \n..        ...       ...       ...  ...       ...       ...       ...   \n671 -0.514090 -0.363556 -0.340399  ... -0.244051 -0.054473  2.089277   \n672  0.870246 -0.314705  0.523106  ... -0.244051 -0.054473 -0.478634   \n673  0.870246 -0.314705  0.523106  ... -0.244051 -0.054473 -0.478634   \n674 -0.574624  0.607264 -0.561365  ... -0.244051 -0.054473 -0.478634   \n675 -0.574624  0.607264 -0.561365  ... -0.244051 -0.054473 -0.478634   \n\n         3026      3027      3028      3029      3030  3031  3032  \n0   -0.134433 -0.396906 -0.077152 -0.685248 -0.094632  -3.0  -2.0  \n1   -0.134433 -0.396906 -0.077152 -0.685248 -0.094632  -1.0  -2.0  \n2   -0.134433 -0.396906 -0.077152 -0.685248 -0.094632  -7.0  -6.0  \n3   -0.134433 -0.396906 -0.077152 -0.685248 -0.094632  -5.0  -6.0  \n4   -0.134433 -0.396906 -0.077152 -0.685248 -0.094632  -5.0  -4.0  \n..        ...       ...       ...       ...       ...   ...   ...  \n671 -0.134433 -0.396906 -0.077152  1.459325 -0.094632  -3.0  -4.0  \n672 -0.134433 -0.396906 -0.077152  1.459325 -0.094632  -7.0  -6.0  \n673 -0.134433 -0.396906 -0.077152  1.459325 -0.094632  -5.0  -6.0  \n674 -0.134433 -0.396906 -0.077152 -0.685248 -0.094632  -5.0  -4.0  \n675 -0.134433 -0.396906 -0.077152 -0.685248 -0.094632  -3.0  -4.0  \n\n[676 rows x 3033 columns]\n"
    }
   ],
   "source": [
    "print(df_X_training)\n",
    "#X_training\n",
    "#결과는 잘 나왔다. "
   ]
  },
  {
   "cell_type": "code",
   "execution_count": 12,
   "metadata": {},
   "outputs": [
    {
     "name": "stdout",
     "output_type": "stream",
     "text": "Getting CIDs and dilutions...\nGetting basic molecular data...\nAdding dilution data...\nThere are now 69 molecular vectors of length 4871, one for each molecule and dilution\nBuilding a matrix...\nThe X matrix has shape (69x4871) (molecules by molecular descriptors)\nPurging data with too many NaNs...\nThe X matrix has shape (69x4871) (molecules by good molecular descriptors)\nImputing remaining NaN data...\nThe X matrix now has shape (69x4871) (molecules by non-NaN good molecular descriptors)\nPurging data that is still bad, if any...\nThe X matrix has shape (69x3033) (molecules by good molecular descriptors)\nNormalizing data for fitting...\nThe X matrix now has shape (69x3033) molecules by non-NaN good molecular descriptors\n"
    }
   ],
   "source": [
    "X_leaderboard_other,good1,good2,means,stds,imputer = dream.make_X(molecular_data,\"leaderboard\",target_dilution='high',good1=good1,good2=good2,means=means,stds=stds)\n",
    "X_leaderboard_other.shape\n",
    "#print(X_leaderboard_other)\n",
    "\n",
    "#print(means)\n",
    "\n",
    "#print(imputer)\n",
    "\n",
    "df_X_leaderboard_other = pd.DataFrame(data = X_leaderboard_other)\n",
    "df_X_leaderboard_other.to_csv('결과1/X_leaderboard_other.csv')\n",
    "\n",
    "df_X_leaderboard_other_good1 = pd.DataFrame(data = good1)\n",
    "df_X_leaderboard_other_good1.to_csv('결과1/X_leaderboard_other_good1.csv')\n",
    "\n",
    "df_X_leaderboard_other_good2 = pd.DataFrame(data = good2)\n",
    "df_X_leaderboard_other_good2.to_csv('결과1/X_leaderboard_other_good2.csv')\n",
    "\n",
    "df_X_leaderboard_other_means = pd.DataFrame(data = means)\n",
    "df_X_leaderboard_other_means.to_csv('결과1/X_leaderboard_other_means.csv')\n",
    "\n",
    "df_X_leaderboard_other_stds = pd.DataFrame(data = stds)\n",
    "df_X_leaderboard_other_stds.to_csv('결과1/X_leaderboard_other_stds.csv')\n",
    "\n",
    "#sys.stdout = open('결과1/X_leaderboard_other.txt', 'w')\n",
    "#print(X_leaderboard_other)\n",
    "\n",
    "#일단 이거 살피다가 데이터 전처리 하는것은 넘어가고 빠르게 결과로 가자."
   ]
  },
  {
   "cell_type": "code",
   "execution_count": 13,
   "metadata": {},
   "outputs": [
    {
     "name": "stdout",
     "output_type": "stream",
     "text": "Getting CIDs and dilutions...\nGetting basic molecular data...\nAdding dilution data...\nThere are now 69 molecular vectors of length 4871, one for each molecule and dilution\nBuilding a matrix...\nThe X matrix has shape (69x4871) (molecules by molecular descriptors)\nPurging data with too many NaNs...\nThe X matrix has shape (69x4871) (molecules by good molecular descriptors)\nImputing remaining NaN data...\nThe X matrix now has shape (69x4871) (molecules by non-NaN good molecular descriptors)\nPurging data that is still bad, if any...\nThe X matrix has shape (69x3033) (molecules by good molecular descriptors)\nNormalizing data for fitting...\nThe X matrix now has shape (69x3033) molecules by non-NaN good molecular descriptors\n"
    }
   ],
   "source": [
    "X_leaderboard_int,good1,good2,means,stds,imputer = dream.make_X(molecular_data,\"leaderboard\",target_dilution=-3,good1=good1,good2=good2,means=means,stds=stds)\n",
    "X_leaderboard_int.shape\n",
    "\n",
    "df_X_leaderboard_int = pd.DataFrame(data = X_leaderboard_int)\n",
    "df_X_leaderboard_int.to_csv('결과1/X_leaderboard_int.csv')\n",
    "\n",
    "df_X_leaderboard_int_good1 = pd.DataFrame(data = good1)\n",
    "df_X_leaderboard_int_good1.to_csv('결과1/X_leaderboard_int_good1.csv')\n",
    "\n",
    "df_X_leaderboard_int_good2 = pd.DataFrame(data = good2)\n",
    "df_X_leaderboard_int_good2.to_csv('결과1/X_leaderboard_int_good2.csv')\n",
    "\n",
    "df_X_leaderboard_int_means = pd.DataFrame(data = means)\n",
    "df_X_leaderboard_int_means.to_csv('결과1/X_leaderboard_int_means.csv')\n",
    "\n",
    "df_X_leaderboard_int_stds = pd.DataFrame(data = stds)\n",
    "df_X_leaderboard_int_stds.to_csv('결과1/X_leaderboard_int_stds.csv')"
   ]
  },
  {
   "cell_type": "code",
   "execution_count": 14,
   "metadata": {},
   "outputs": [
    {
     "name": "stdout",
     "output_type": "stream",
     "text": "Getting CIDs and dilutions...\nGetting basic molecular data...\nAdding dilution data...\nThere are now 69 molecular vectors of length 4871, one for each molecule and dilution\nBuilding a matrix...\nThe X matrix has shape (69x4871) (molecules by molecular descriptors)\nPurging data with too many NaNs...\nThe X matrix has shape (69x4871) (molecules by good molecular descriptors)\nImputing remaining NaN data...\nThe X matrix now has shape (69x4871) (molecules by non-NaN good molecular descriptors)\nPurging data that is still bad, if any...\nThe X matrix has shape (69x3033) (molecules by good molecular descriptors)\nNormalizing data for fitting...\nThe X matrix now has shape (69x3033) molecules by non-NaN good molecular descriptors\n"
    }
   ],
   "source": [
    "X_testset_other,good1,good2,means,stds,imputer = dream.make_X(molecular_data,\"testset\",target_dilution='high',good1=good1,good2=good2,means=means,stds=stds)\n",
    "X_testset_other.shape\n",
    "\n",
    "df_X_testset_other = pd.DataFrame(data = X_testset_other)\n",
    "df_X_testset_other.to_csv('결과1/X_testset_other.csv')\n",
    "\n",
    "df_X_testset_other_good1 = pd.DataFrame(data = good1)\n",
    "df_X_testset_other_good1.to_csv('결과1/X_testset_other_good1.csv')\n",
    "\n",
    "df_X_testset_other_good2 = pd.DataFrame(data = good2)\n",
    "df_X_testset_other_good2.to_csv('결과1/X_testset_other_good2.csv')\n",
    "\n",
    "df_X_testset_other_means = pd.DataFrame(data = means)\n",
    "df_X_testset_other_means.to_csv('결과1/X_testset_other_means.csv')\n",
    "\n",
    "df_X_testset_other_stds = pd.DataFrame(data = stds)\n",
    "df_X_testset_other_stds.to_csv('결과1/X_testset_other_stds.csv')"
   ]
  },
  {
   "cell_type": "code",
   "execution_count": 15,
   "metadata": {},
   "outputs": [
    {
     "name": "stdout",
     "output_type": "stream",
     "text": "Getting CIDs and dilutions...\nGetting basic molecular data...\nAdding dilution data...\nThere are now 69 molecular vectors of length 4871, one for each molecule and dilution\nBuilding a matrix...\nThe X matrix has shape (69x4871) (molecules by molecular descriptors)\nPurging data with too many NaNs...\nThe X matrix has shape (69x4871) (molecules by good molecular descriptors)\nImputing remaining NaN data...\nThe X matrix now has shape (69x4871) (molecules by non-NaN good molecular descriptors)\nPurging data that is still bad, if any...\nThe X matrix has shape (69x3033) (molecules by good molecular descriptors)\nNormalizing data for fitting...\nThe X matrix now has shape (69x3033) molecules by non-NaN good molecular descriptors\n"
    }
   ],
   "source": [
    "X_testset_int,good1,good2,means,stds,imputer = dream.make_X(molecular_data,\"testset\",target_dilution=-3,good1=good1,good2=good2,means=means,stds=stds)\n",
    "X_testset_int.shape\n",
    "\n",
    "df_X_testset_int = pd.DataFrame(data = X_testset_int)\n",
    "df_X_testset_int.to_csv('결과1/X_testset_int.csv')\n",
    "\n",
    "df_X_testset_int_good1 = pd.DataFrame(data = good1)\n",
    "df_X_testset_int_good1.to_csv('결과1/X_testset_int_good1.csv')\n",
    "\n",
    "df_X_testset_int_good2 = pd.DataFrame(data = good2)\n",
    "df_X_testset_int_good2.to_csv('결과1/X_testset_int_good2.csv')\n",
    "\n",
    "df_X_testset_int_means = pd.DataFrame(data = means)\n",
    "df_X_testset_int_means.to_csv('결과1/X_testset_int_means.csv')\n",
    "\n",
    "df_X_testset_int_stds = pd.DataFrame(data = stds)\n",
    "df_X_testset_int_stds.to_csv('결과1/X_testset_int_stds.csv')"
   ]
  },
  {
   "cell_type": "code",
   "execution_count": 16,
   "metadata": {},
   "outputs": [
    {
     "name": "stdout",
     "output_type": "stream",
     "text": "Getting CIDs and dilutions...\nGetting basic molecular data...\nAdding dilution data...\nThere are now 814 molecular vectors of length 4871, one for each molecule and dilution\nBuilding a matrix...\nThe X matrix has shape (814x4871) (molecules by molecular descriptors)\nPurging data with too many NaNs...\nThe X matrix has shape (814x4871) (molecules by good molecular descriptors)\nImputing remaining NaN data...\nThe X matrix now has shape (814x4871) (molecules by non-NaN good molecular descriptors)\nPurging data that is still bad, if any...\nThe X matrix has shape (814x3033) (molecules by good molecular descriptors)\nNormalizing data for fitting...\nThe X matrix now has shape (814x3033) molecules by non-NaN good molecular descriptors\n"
    }
   ],
   "source": [
    "X_all,good1,good2,means,stds,imputer = dream.make_X(molecular_data,[\"training\",\"leaderboard\"],good1=good1,good2=good2,means=means,stds=stds)\n",
    "X_all.shape\n",
    "\n",
    "\n",
    "df_X_all = pd.DataFrame(data = X_all)\n",
    "df_X_all.to_csv('결과1/X_all.csv')\n",
    "\n",
    "df_X_all_good1 = pd.DataFrame(data = good1)\n",
    "df_X_all_good1.to_csv('결과1/X_all_good1.csv')\n",
    "\n",
    "df_X_all_good2 = pd.DataFrame(data = good2)\n",
    "df_X_all_good2.to_csv('결과1/X_all_good2.csv')\n",
    "\n",
    "df_X_all_means = pd.DataFrame(data = means)\n",
    "df_X_all_means.to_csv('결과1/X_all_means.csv')\n",
    "\n",
    "df_X_all_stds = pd.DataFrame(data = stds)\n",
    "df_X_all_stds.to_csv('결과1/X_all_stds.csv')"
   ]
  },
  {
   "cell_type": "code",
   "execution_count": 17,
   "metadata": {},
   "outputs": [
    {
     "name": "stdout",
     "output_type": "stream",
     "text": "Getting basic perceptual data...\nFlattening into vectors...\nAssembling into matrices...\nY_obs['subject'] contains 49 matrices each with shape (676x21) (molecules by perceptual descriptors)\nThe Y_obs['mean_std'] matrix has shape (676x42) (molecules by 2 x perceptual descriptors)\nCombining Y matrices...\nThe Y['mean_std'] matrix now has shape (676x42) molecules by 2 x perceptual descriptors\nThe Y['subject'] dict now has 49 matrices of shape (676x21) molecules by perceptual descriptors, one for each subject\n"
    }
   ],
   "source": [
    "Y_training,imputer = dream.make_Y_obs('training',target_dilution=None,imputer='median')\n",
    "\n",
    "#df_Y_training_subject = pd.DataFrame(data = Y_training['subject'])\n",
    "#df_Y_training_subject.to_csv('결과1/Y_training_subject.csv')\n",
    "\n",
    "#df_Y_training_mean_std = pd.DataFrame(data = Y_training['mean_std'])\n",
    "#df_Y_training_mean_std.to_csv('결과1/Y_training_means_std.csv')\n"
   ]
  },
  {
   "cell_type": "code",
   "execution_count": 18,
   "metadata": {},
   "outputs": [
    {
     "data": {
      "text/plain": "dict"
     },
     "execution_count": 18,
     "metadata": {},
     "output_type": "execute_result"
    }
   ],
   "source": [
    "type(Y_training['subject'])\n",
    "#y의 출력결과도 알기 위해서 type을 알아봄. "
   ]
  },
  {
   "cell_type": "code",
   "execution_count": 19,
   "metadata": {},
   "outputs": [
    {
     "data": {
      "text/plain": "dict_keys(['subject', 'mean_std'])"
     },
     "execution_count": 19,
     "metadata": {},
     "output_type": "execute_result"
    }
   ],
   "source": [
    "Y_training.keys()"
   ]
  },
  {
   "cell_type": "code",
   "execution_count": 20,
   "metadata": {},
   "outputs": [
    {
     "data": {
      "text/plain": "masked_array(\n  data=[[7.0, 62.0, 0.0, ..., 0.0, 0.0, 0.0],\n        [37.0, 60.0, 0.0, ..., 0.0, 0.0, 0.0],\n        [0.0, 46.0, 0.0, ..., 0.0, 0.0, 0.0],\n        ...,\n        [0.0, 45.0, 0.0, ..., 0.0, 0.0, 0.0],\n        [60.0, 58.0, 0.0, ..., 0.0, 0.0, 0.0],\n        [55.0, 45.0, 0.0, ..., 0.0, 0.0, 0.0]],\n  mask=[[False, False, False, ..., False, False, False],\n        [False, False, False, ..., False, False, False],\n        [False, False, False, ..., False, False, False],\n        ...,\n        [False, False, False, ..., False, False, False],\n        [False, False, False, ..., False, False, False],\n        [False, False, False, ..., False, False, False]],\n  fill_value=1e+20)"
     },
     "execution_count": 20,
     "metadata": {},
     "output_type": "execute_result"
    }
   ],
   "source": [
    "Y_training['subject'][1]"
   ]
  },
  {
   "cell_type": "code",
   "execution_count": 21,
   "metadata": {},
   "outputs": [
    {
     "data": {
      "text/plain": "numpy.ma.core.MaskedArray"
     },
     "execution_count": 21,
     "metadata": {},
     "output_type": "execute_result"
    }
   ],
   "source": [
    "type(Y_training['subject'][1])"
   ]
  },
  {
   "cell_type": "code",
   "execution_count": 22,
   "metadata": {},
   "outputs": [
    {
     "name": "stdout",
     "output_type": "stream",
     "text": "Getting basic perceptual data...\nFlattening into vectors...\nAssembling into matrices...\nY_obs['subject'] contains 49 matrices each with shape (69x21) (molecules by perceptual descriptors)\nThe Y_obs['mean_std'] matrix has shape (69x42) (molecules by 2 x perceptual descriptors)\nCombining Y matrices...\nThe Y['mean_std'] matrix now has shape (69x42) molecules by 2 x perceptual descriptors\nThe Y['subject'] dict now has 49 matrices of shape (69x21) molecules by perceptual descriptors, one for each subject\nGetting basic perceptual data...\nFlattening into vectors...\nAssembling into matrices...\nY_obs['subject'] contains 49 matrices each with shape (69x21) (molecules by perceptual descriptors)\nThe Y_obs['mean_std'] matrix has shape (69x42) (molecules by 2 x perceptual descriptors)\nCombining Y matrices...\nThe Y['mean_std'] matrix now has shape (69x42) molecules by 2 x perceptual descriptors\nThe Y['subject'] dict now has 49 matrices of shape (69x21) molecules by perceptual descriptors, one for each subject\n"
    },
    {
     "ename": "Exception",
     "evalue": "Data must be 1-dimensional",
     "output_type": "error",
     "traceback": [
      "\u001b[0;31m---------------------------------------------------------------------------\u001b[0m",
      "\u001b[0;31mException\u001b[0m                                 Traceback (most recent call last)",
      "\u001b[0;32m<ipython-input-22-eb0dca2a919b>\u001b[0m in \u001b[0;36m<module>\u001b[0;34m\u001b[0m\n\u001b[1;32m      1\u001b[0m \u001b[0mY_leaderboard\u001b[0m\u001b[0;34m,\u001b[0m\u001b[0mimputer\u001b[0m \u001b[0;34m=\u001b[0m \u001b[0mdream\u001b[0m\u001b[0;34m.\u001b[0m\u001b[0mmake_Y_obs\u001b[0m\u001b[0;34m(\u001b[0m\u001b[0;34m'leaderboard'\u001b[0m\u001b[0;34m,\u001b[0m\u001b[0mtarget_dilution\u001b[0m\u001b[0;34m=\u001b[0m\u001b[0;34m'gold'\u001b[0m\u001b[0;34m,\u001b[0m\u001b[0mimputer\u001b[0m\u001b[0;34m=\u001b[0m\u001b[0;34m'mask'\u001b[0m\u001b[0;34m)\u001b[0m\u001b[0;34m\u001b[0m\u001b[0;34m\u001b[0m\u001b[0m\n\u001b[1;32m      2\u001b[0m \u001b[0;34m\u001b[0m\u001b[0m\n\u001b[0;32m----> 3\u001b[0;31m \u001b[0mdf_Y_leaderboard\u001b[0m \u001b[0;34m=\u001b[0m \u001b[0mpd\u001b[0m\u001b[0;34m.\u001b[0m\u001b[0mDataFrame\u001b[0m\u001b[0;34m(\u001b[0m\u001b[0mdata\u001b[0m \u001b[0;34m=\u001b[0m \u001b[0mY_leaderboard\u001b[0m\u001b[0;34m)\u001b[0m\u001b[0;34m\u001b[0m\u001b[0;34m\u001b[0m\u001b[0m\n\u001b[0m\u001b[1;32m      4\u001b[0m \u001b[0mdf_Y_leaderboard\u001b[0m\u001b[0;34m.\u001b[0m\u001b[0mto_csv\u001b[0m\u001b[0;34m(\u001b[0m\u001b[0;34m'결과1/Y_leaderboard.csv'\u001b[0m\u001b[0;34m)\u001b[0m\u001b[0;34m\u001b[0m\u001b[0;34m\u001b[0m\u001b[0m\n",
      "\u001b[0;32m~/miniconda3/envs/py36/lib/python3.6/site-packages/pandas/core/frame.py\u001b[0m in \u001b[0;36m__init__\u001b[0;34m(self, data, index, columns, dtype, copy)\u001b[0m\n\u001b[1;32m    433\u001b[0m             )\n\u001b[1;32m    434\u001b[0m         \u001b[0;32melif\u001b[0m \u001b[0misinstance\u001b[0m\u001b[0;34m(\u001b[0m\u001b[0mdata\u001b[0m\u001b[0;34m,\u001b[0m \u001b[0mdict\u001b[0m\u001b[0;34m)\u001b[0m\u001b[0;34m:\u001b[0m\u001b[0;34m\u001b[0m\u001b[0;34m\u001b[0m\u001b[0m\n\u001b[0;32m--> 435\u001b[0;31m             \u001b[0mmgr\u001b[0m \u001b[0;34m=\u001b[0m \u001b[0minit_dict\u001b[0m\u001b[0;34m(\u001b[0m\u001b[0mdata\u001b[0m\u001b[0;34m,\u001b[0m \u001b[0mindex\u001b[0m\u001b[0;34m,\u001b[0m \u001b[0mcolumns\u001b[0m\u001b[0;34m,\u001b[0m \u001b[0mdtype\u001b[0m\u001b[0;34m=\u001b[0m\u001b[0mdtype\u001b[0m\u001b[0;34m)\u001b[0m\u001b[0;34m\u001b[0m\u001b[0;34m\u001b[0m\u001b[0m\n\u001b[0m\u001b[1;32m    436\u001b[0m         \u001b[0;32melif\u001b[0m \u001b[0misinstance\u001b[0m\u001b[0;34m(\u001b[0m\u001b[0mdata\u001b[0m\u001b[0;34m,\u001b[0m \u001b[0mma\u001b[0m\u001b[0;34m.\u001b[0m\u001b[0mMaskedArray\u001b[0m\u001b[0;34m)\u001b[0m\u001b[0;34m:\u001b[0m\u001b[0;34m\u001b[0m\u001b[0;34m\u001b[0m\u001b[0m\n\u001b[1;32m    437\u001b[0m             \u001b[0;32mimport\u001b[0m \u001b[0mnumpy\u001b[0m\u001b[0;34m.\u001b[0m\u001b[0mma\u001b[0m\u001b[0;34m.\u001b[0m\u001b[0mmrecords\u001b[0m \u001b[0;32mas\u001b[0m \u001b[0mmrecords\u001b[0m\u001b[0;34m\u001b[0m\u001b[0;34m\u001b[0m\u001b[0m\n",
      "\u001b[0;32m~/miniconda3/envs/py36/lib/python3.6/site-packages/pandas/core/internals/construction.py\u001b[0m in \u001b[0;36minit_dict\u001b[0;34m(data, index, columns, dtype)\u001b[0m\n\u001b[1;32m    252\u001b[0m             \u001b[0marr\u001b[0m \u001b[0;32mif\u001b[0m \u001b[0;32mnot\u001b[0m \u001b[0mis_datetime64tz_dtype\u001b[0m\u001b[0;34m(\u001b[0m\u001b[0marr\u001b[0m\u001b[0;34m)\u001b[0m \u001b[0;32melse\u001b[0m \u001b[0marr\u001b[0m\u001b[0;34m.\u001b[0m\u001b[0mcopy\u001b[0m\u001b[0;34m(\u001b[0m\u001b[0;34m)\u001b[0m \u001b[0;32mfor\u001b[0m \u001b[0marr\u001b[0m \u001b[0;32min\u001b[0m \u001b[0marrays\u001b[0m\u001b[0;34m\u001b[0m\u001b[0;34m\u001b[0m\u001b[0m\n\u001b[1;32m    253\u001b[0m         ]\n\u001b[0;32m--> 254\u001b[0;31m     \u001b[0;32mreturn\u001b[0m \u001b[0marrays_to_mgr\u001b[0m\u001b[0;34m(\u001b[0m\u001b[0marrays\u001b[0m\u001b[0;34m,\u001b[0m \u001b[0mdata_names\u001b[0m\u001b[0;34m,\u001b[0m \u001b[0mindex\u001b[0m\u001b[0;34m,\u001b[0m \u001b[0mcolumns\u001b[0m\u001b[0;34m,\u001b[0m \u001b[0mdtype\u001b[0m\u001b[0;34m=\u001b[0m\u001b[0mdtype\u001b[0m\u001b[0;34m)\u001b[0m\u001b[0;34m\u001b[0m\u001b[0;34m\u001b[0m\u001b[0m\n\u001b[0m\u001b[1;32m    255\u001b[0m \u001b[0;34m\u001b[0m\u001b[0m\n\u001b[1;32m    256\u001b[0m \u001b[0;34m\u001b[0m\u001b[0m\n",
      "\u001b[0;32m~/miniconda3/envs/py36/lib/python3.6/site-packages/pandas/core/internals/construction.py\u001b[0m in \u001b[0;36marrays_to_mgr\u001b[0;34m(arrays, arr_names, index, columns, dtype)\u001b[0m\n\u001b[1;32m     67\u001b[0m \u001b[0;34m\u001b[0m\u001b[0m\n\u001b[1;32m     68\u001b[0m     \u001b[0;31m# don't force copy because getting jammed in an ndarray anyway\u001b[0m\u001b[0;34m\u001b[0m\u001b[0;34m\u001b[0m\u001b[0;34m\u001b[0m\u001b[0m\n\u001b[0;32m---> 69\u001b[0;31m     \u001b[0marrays\u001b[0m \u001b[0;34m=\u001b[0m \u001b[0m_homogenize\u001b[0m\u001b[0;34m(\u001b[0m\u001b[0marrays\u001b[0m\u001b[0;34m,\u001b[0m \u001b[0mindex\u001b[0m\u001b[0;34m,\u001b[0m \u001b[0mdtype\u001b[0m\u001b[0;34m)\u001b[0m\u001b[0;34m\u001b[0m\u001b[0;34m\u001b[0m\u001b[0m\n\u001b[0m\u001b[1;32m     70\u001b[0m \u001b[0;34m\u001b[0m\u001b[0m\n\u001b[1;32m     71\u001b[0m     \u001b[0;31m# from BlockManager perspective\u001b[0m\u001b[0;34m\u001b[0m\u001b[0;34m\u001b[0m\u001b[0;34m\u001b[0m\u001b[0m\n",
      "\u001b[0;32m~/miniconda3/envs/py36/lib/python3.6/site-packages/pandas/core/internals/construction.py\u001b[0m in \u001b[0;36m_homogenize\u001b[0;34m(data, index, dtype)\u001b[0m\n\u001b[1;32m    321\u001b[0m                 \u001b[0mval\u001b[0m \u001b[0;34m=\u001b[0m \u001b[0mlib\u001b[0m\u001b[0;34m.\u001b[0m\u001b[0mfast_multiget\u001b[0m\u001b[0;34m(\u001b[0m\u001b[0mval\u001b[0m\u001b[0;34m,\u001b[0m \u001b[0moindex\u001b[0m\u001b[0;34m.\u001b[0m\u001b[0mvalues\u001b[0m\u001b[0;34m,\u001b[0m \u001b[0mdefault\u001b[0m\u001b[0;34m=\u001b[0m\u001b[0mnp\u001b[0m\u001b[0;34m.\u001b[0m\u001b[0mnan\u001b[0m\u001b[0;34m)\u001b[0m\u001b[0;34m\u001b[0m\u001b[0;34m\u001b[0m\u001b[0m\n\u001b[1;32m    322\u001b[0m             val = sanitize_array(\n\u001b[0;32m--> 323\u001b[0;31m                 \u001b[0mval\u001b[0m\u001b[0;34m,\u001b[0m \u001b[0mindex\u001b[0m\u001b[0;34m,\u001b[0m \u001b[0mdtype\u001b[0m\u001b[0;34m=\u001b[0m\u001b[0mdtype\u001b[0m\u001b[0;34m,\u001b[0m \u001b[0mcopy\u001b[0m\u001b[0;34m=\u001b[0m\u001b[0;32mFalse\u001b[0m\u001b[0;34m,\u001b[0m \u001b[0mraise_cast_failure\u001b[0m\u001b[0;34m=\u001b[0m\u001b[0;32mFalse\u001b[0m\u001b[0;34m\u001b[0m\u001b[0;34m\u001b[0m\u001b[0m\n\u001b[0m\u001b[1;32m    324\u001b[0m             )\n\u001b[1;32m    325\u001b[0m \u001b[0;34m\u001b[0m\u001b[0m\n",
      "\u001b[0;32m~/miniconda3/envs/py36/lib/python3.6/site-packages/pandas/core/construction.py\u001b[0m in \u001b[0;36msanitize_array\u001b[0;34m(data, index, dtype, copy, raise_cast_failure)\u001b[0m\n\u001b[1;32m    480\u001b[0m     \u001b[0;32melif\u001b[0m \u001b[0msubarr\u001b[0m\u001b[0;34m.\u001b[0m\u001b[0mndim\u001b[0m \u001b[0;34m>\u001b[0m \u001b[0;36m1\u001b[0m\u001b[0;34m:\u001b[0m\u001b[0;34m\u001b[0m\u001b[0;34m\u001b[0m\u001b[0m\n\u001b[1;32m    481\u001b[0m         \u001b[0;32mif\u001b[0m \u001b[0misinstance\u001b[0m\u001b[0;34m(\u001b[0m\u001b[0mdata\u001b[0m\u001b[0;34m,\u001b[0m \u001b[0mnp\u001b[0m\u001b[0;34m.\u001b[0m\u001b[0mndarray\u001b[0m\u001b[0;34m)\u001b[0m\u001b[0;34m:\u001b[0m\u001b[0;34m\u001b[0m\u001b[0;34m\u001b[0m\u001b[0m\n\u001b[0;32m--> 482\u001b[0;31m             \u001b[0;32mraise\u001b[0m \u001b[0mException\u001b[0m\u001b[0;34m(\u001b[0m\u001b[0;34m\"Data must be 1-dimensional\"\u001b[0m\u001b[0;34m)\u001b[0m\u001b[0;34m\u001b[0m\u001b[0;34m\u001b[0m\u001b[0m\n\u001b[0m\u001b[1;32m    483\u001b[0m         \u001b[0;32melse\u001b[0m\u001b[0;34m:\u001b[0m\u001b[0;34m\u001b[0m\u001b[0;34m\u001b[0m\u001b[0m\n\u001b[1;32m    484\u001b[0m             \u001b[0msubarr\u001b[0m \u001b[0;34m=\u001b[0m \u001b[0mcom\u001b[0m\u001b[0;34m.\u001b[0m\u001b[0masarray_tuplesafe\u001b[0m\u001b[0;34m(\u001b[0m\u001b[0mdata\u001b[0m\u001b[0;34m,\u001b[0m \u001b[0mdtype\u001b[0m\u001b[0;34m=\u001b[0m\u001b[0mdtype\u001b[0m\u001b[0;34m)\u001b[0m\u001b[0;34m\u001b[0m\u001b[0;34m\u001b[0m\u001b[0m\n",
      "\u001b[0;31mException\u001b[0m: Data must be 1-dimensional"
     ]
    }
   ],
   "source": [
    "Y_leaderboard,imputer = dream.make_Y_obs('leaderboard',target_dilution='gold',imputer='mask')\n",
    "\n",
    "df_Y_leaderboard = pd.DataFrame(data = Y_leaderboard)\n",
    "df_Y_leaderboard.to_csv('결과1/Y_leaderboard.csv')"
   ]
  },
  {
   "cell_type": "code",
   "execution_count": null,
   "metadata": {},
   "outputs": [],
   "source": [
    "Y_all_imp,imputer = dream.make_Y_obs(['training','leaderboard'],target_dilution=None,imputer='median')\n",
    "\n",
    "df_Y_all_imp = pd.DataFrame(data = Y_all_imp)\n",
    "df_Y_all_imp.to_csv('결과1/Y_all_imp.csv')"
   ]
  },
  {
   "cell_type": "markdown",
   "metadata": {},
   "source": [
    "### Data preparation"
   ]
  },
  {
   "cell_type": "code",
   "execution_count": null,
   "metadata": {},
   "outputs": [],
   "source": [
    "# Show the range of values for the molecular and perceptual descriptors.  \n",
    "plt.hist(X_training.ravel())\n",
    "plt.yscale('log')\n",
    "plt.ylabel('Count')\n",
    "plt.xlabel('Cube root transformed, N(0,1) normalized molecular descriptor values')\n",
    "plt.figure()\n",
    "plt.hist(np.dstack([Y_training['subject'][subject] for subject in range(1,50)]).ravel())\n",
    "plt.yscale('log')\n",
    "plt.ylabel('Count')\n",
    "plt.xlabel('Perceptual descriptor values')"
   ]
  },
  {
   "cell_type": "markdown",
   "metadata": {},
   "source": [
    "## Fitting and Generating Submission Files"
   ]
  },
  {
   "cell_type": "code",
   "execution_count": null,
   "metadata": {},
   "outputs": [],
   "source": [
    "write = False # Set to True to actually generate the prediction files.  \n",
    "n_estimators = 5 # Set this to a high number (e.g. 100) to get a good fit.  \n",
    "\n",
    "# Best parameters, determined independently.  \n",
    "max_features = {'int':None,\n",
    "                'ple':100,\n",
    "                'dec':500}\n",
    "min_samples_leaf = {'int':1,\n",
    "                'ple':1,\n",
    "                'dec':1}\n",
    "max_depth = {'int':None,\n",
    "                'ple':10,\n",
    "                'dec':10}\n",
    "et = {'int':True,\n",
    "      'ple':False,\n",
    "      'dec':False,}"
   ]
  },
  {
   "cell_type": "code",
   "execution_count": null,
   "metadata": {},
   "outputs": [],
   "source": [
    "# Fit training data.  \n",
    "rfcs_leaderboard,score,rs = fit1.rfc_final(X_training,Y_training['subject'],\n",
    "                            max_features,min_samples_leaf,max_depth,et,\n",
    "                            n_estimators=n_estimators)\n",
    "\n",
    "\n",
    "sys.stdout = open('결과1/rfcs_leaderboard.txt', 'w')\n",
    "print(rfcs_leaderboard)\n",
    "sys.stdout = open('결과1/rfcs_leaderboard_score.txt', 'w')\n",
    "print(score)\n",
    "sys.stdout = open('결과1/rfcs_leaderboard_rs.txt', 'w')\n",
    "print(rs)"
   ]
  },
  {
   "cell_type": "code",
   "execution_count": null,
   "metadata": {},
   "outputs": [],
   "source": [
    "_ = loading.make_prediction_files(rfcs_leaderboard,X_leaderboard_int,X_leaderboard_other,'leaderboard',1,Y_test=Y_leaderboard,write=write)\n",
    "print(_['subject'][1]) # Print values for subject 1 to make sure it looks right.  \n",
    "\n",
    "sys.stdout = open('결과1/training result.txt', 'w')\n",
    "print(_)\n"
   ]
  },
  {
   "cell_type": "code",
   "execution_count": null,
   "metadata": {},
   "outputs": [],
   "source": [
    "rfcs,score,rs = fit1.rfc_final(X_all,Y_all_imp['subject'],\n",
    "                            max_features,min_samples_leaf,max_depth,et,\n",
    "                            n_estimators=n_estimators)\n",
    "\n",
    "sys.stdout = open('결과1/rfcs.txt', 'w')\n",
    "print(rfcs)\n",
    "sys.stdout = open('결과1/rfcs_score.txt', 'w')\n",
    "print(score)\n",
    "sys.stdout = open('결과1/rfcs_rs.txt', 'w')\n",
    "print(rs)"
   ]
  },
  {
   "cell_type": "code",
   "execution_count": null,
   "metadata": {},
   "outputs": [],
   "source": [
    "_ = loading.make_prediction_files(rfcs,X_testset_int,X_testset_other,'testset',1,write=False)\n",
    "print(_['subject'][1]) # Print values for subject 1 to make sure it looks right. \n",
    "\n",
    "sys.stdout = open('결과1/test result.txt', 'w')\n",
    "print(_)"
   ]
  },
  {
   "cell_type": "code",
   "execution_count": null,
   "metadata": {},
   "outputs": [],
   "source": []
  }
 ],
 "metadata": {
  "kernelspec": {
   "display_name": "Python 3.6.10 64-bit ('py36': conda)",
   "language": "python",
   "name": "python361064bitpy36condafebe6ef44cbe421b8ee9be5fd6c2df2e"
  },
  "language_info": {
   "codemirror_mode": {
    "name": "ipython",
    "version": 3
   },
   "file_extension": ".py",
   "mimetype": "text/x-python",
   "name": "python",
   "nbconvert_exporter": "python",
   "pygments_lexer": "ipython3",
   "version": "3.6.10-final"
  }
 },
 "nbformat": 4,
 "nbformat_minor": 1
}