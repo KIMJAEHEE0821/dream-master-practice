{
 "cells": [
  {
   "cell_type": "markdown",
   "metadata": {},
   "source": [
    "### Preliminaries"
   ]
  },
  {
   "cell_type": "code",
   "execution_count": 1,
   "metadata": {},
   "outputs": [],
   "source": [
    "# Preliminaries to setup the notebook.  \n",
    "%matplotlib inline\n",
    "%load_ext autoreload\n",
    "%autoreload 2\n",
    "\n",
    "# Import numerical libraries.  \n",
    "import numpy as np\n",
    "import matplotlib.pyplot as plt\n",
    "from scipy.stats import pearsonr\n",
    "from sklearn.ensemble import RandomForestRegressor,ExtraTreesRegressor\n",
    "from sklearn.model_selection import ShuffleSplit,cross_val_score\n",
    "from sklearn.model_selection import GridSearchCV"
   ]
  },
  {
   "cell_type": "code",
   "execution_count": 2,
   "metadata": {},
   "outputs": [],
   "source": [
    "# Import the file I wrote to load the data from the tab-delimited text files.  \n",
    "import dream\n",
    "import loading\n",
    "import scoring\n",
    "import fit2"
   ]
  },
  {
   "cell_type": "code",
   "execution_count": 3,
   "metadata": {},
   "outputs": [
    {
     "name": "stdout",
     "output_type": "stream",
     "text": [
      "['Compound Identifier', 'Odor', 'Replicate', 'Intensity', 'Dilution', 'subject #', 'INTENSITY/STRENGTH', 'VALENCE/PLEASANTNESS', 'BAKERY', 'SWEET', 'FRUIT', 'FISH', 'GARLIC', 'SPICES', 'COLD', 'SOUR', 'BURNT', 'ACID', 'WARM', 'MUSKY', 'SWEATY', 'AMMONIA/URINOUS', 'DECAYED', 'WOOD', 'GRASS', 'FLOWER', 'CHEMICAL']\n"
     ]
    }
   ],
   "source": [
    "# Load the perceptual descriptors data.  \n",
    "perceptual_headers, perceptual_obs_data = loading.load_perceptual_data('training')\n",
    "loading.format_leaderboard_perceptual_data()\n",
    "# Show the perceptual metadata types and perceptual descriptor names.\n",
    "print(perceptual_headers)"
   ]
  },
  {
   "cell_type": "code",
   "execution_count": 4,
   "metadata": {},
   "outputs": [
    {
     "name": "stdout",
     "output_type": "stream",
     "text": [
      "['126', '4-Hydroxybenzaldehyde', False, 'high', '1/10', '1', 37, 60, 0, 72, 0, 0, 0, 0, 0, 0, 0, 0, 0, 0, 0, 0, 0, 0, 0, 0, 0]\n"
     ]
    }
   ],
   "source": [
    "# Show the metadata and perceptual descriptor values for the first compound.\n",
    "print(perceptual_obs_data[1])"
   ]
  },
  {
   "cell_type": "code",
   "execution_count": 5,
   "metadata": {},
   "outputs": [
    {
     "name": "stdout",
     "output_type": "stream",
     "text": [
      "There are 21 different perceptual descriptors and 49 different subjects\n"
     ]
    }
   ],
   "source": [
    "num_descriptors = len(perceptual_headers[6:])\n",
    "num_subjects = 49\n",
    "print('There are %d different perceptual descriptors and %d different subjects' % (num_descriptors,num_subjects))"
   ]
  },
  {
   "cell_type": "code",
   "execution_count": 6,
   "metadata": {},
   "outputs": [
    {
     "name": "stdout",
     "output_type": "stream",
     "text": [
      "First ten molecular descriptor types are ['CID', 'complexity from pubmed', 'MW', 'AMW', 'Sv', 'Se', 'Sp', 'Si', 'Mv', 'Me']\n",
      "First ten descriptor values for the first compound are ['126', 93.1, 122.13, 8.142, 10.01, 15.305, 10.193, 16.664, 0.667, 1.02]\n",
      "We have molecular descriptors for 476 unique molecules\n"
     ]
    }
   ],
   "source": [
    "# Load the molecular descriptors data.  \n",
    "molecular_headers, molecular_data = loading.load_molecular_data()\n",
    "print(\"First ten molecular descriptor types are %s\" % molecular_headers[:10])\n",
    "print(\"First ten descriptor values for the first compound are %s\" % molecular_data[0][:10])\n",
    "total_size = len(set([int(row[0]) for row in molecular_data]))\n",
    "print(\"We have molecular descriptors for %d unique molecules\" % total_size)"
   ]
  },
  {
   "cell_type": "code",
   "execution_count": 7,
   "metadata": {},
   "outputs": [
    {
     "name": "stdout",
     "output_type": "stream",
     "text": [
      "We have perceptual data for 338 unique molecules\n",
      "138 are left out for testing in the competition; half of these (69) are used for the leaderboard.\n"
     ]
    }
   ],
   "source": [
    "training_size = len(set([int(row[0]) for row in perceptual_obs_data]))\n",
    "print(\"We have perceptual data for %d unique molecules\" % training_size)\n",
    "remaining_size = total_size - training_size\n",
    "print (\"%d are left out for testing in the competition; half of these (%d) are used for the leaderboard.\" \\\n",
    "       % (remaining_size,remaining_size/2))"
   ]
  },
  {
   "cell_type": "code",
   "execution_count": 8,
   "metadata": {},
   "outputs": [
    {
     "name": "stdout",
     "output_type": "stream",
     "text": [
      "There are 35084 rows in the perceptual data set (at least one for each subject and molecule)\n",
      "1960 of these are replicates (same subject and molecules)\n"
     ]
    }
   ],
   "source": [
    "print(\"There are %d rows in the perceptual data set (at least one for each subject and molecule)\" % len(perceptual_obs_data))\n",
    "print(\"%d of these are replicates (same subject and molecules)\" % sum([x[2] for x in perceptual_obs_data]))"
   ]
  },
  {
   "cell_type": "code",
   "execution_count": 9,
   "metadata": {},
   "outputs": [],
   "source": [
    "import pandas as pd"
   ]
  },
  {
   "cell_type": "markdown",
   "metadata": {},
   "source": [
    "### Create Molecular Matrix"
   ]
  },
  {
   "cell_type": "code",
   "execution_count": 10,
   "metadata": {},
   "outputs": [
    {
     "name": "stdout",
     "output_type": "stream",
     "text": [
      "Getting CIDs and dilutions...\n",
      "Getting basic molecular data...\n",
      "Adding dilution data...\n",
      "There are now 676 molecular vectors of length 4871, one for each molecule and dilution\n",
      "Building a matrix...\n",
      "The X matrix has shape (676x4871) (molecules by molecular descriptors)\n",
      "Purging data with too many NaNs...\n",
      "The X matrix has shape (676x4871) (molecules by good molecular descriptors)\n",
      "Imputing remaining NaN data...\n",
      "The X matrix now has shape (676x4871) (molecules by non-NaN good molecular descriptors)\n",
      "Purging data that is still bad, if any...\n",
      "The X matrix has shape (676x3033) (molecules by good molecular descriptors)\n",
      "Normalizing data for fitting...\n",
      "The X matrix now has shape (676x3033) molecules by non-NaN good molecular descriptors\n"
     ]
    }
   ],
   "source": [
    "X_training,good1,good2,means,stds,imputer = dream.make_X(molecular_data,\"training\")\n",
    "X_training.shape\n",
    "\n",
    "df_X_training = pd.DataFrame(data = X_training)\n",
    "df_X_training.to_csv('결과2/X_training.csv')\n",
    "\n",
    "df_X_training_good1 = pd.DataFrame(data = good1)\n",
    "df_X_training_good1.to_csv('결과2/X_training_good1.csv')\n",
    "\n",
    "df_X_training_good2 = pd.DataFrame(data = good2)\n",
    "df_X_training_good2.to_csv('결과2/X_training_good2.csv')\n",
    "\n",
    "df_X_training_means = pd.DataFrame(data = means)\n",
    "df_X_training_means.to_csv('결과2/X_training_means.csv')\n",
    "\n",
    "df_X_training_stds = pd.DataFrame(data = stds)\n",
    "df_X_training_stds.to_csv('결과2/X_training_stds.csv')"
   ]
  },
  {
   "cell_type": "code",
   "execution_count": 11,
   "metadata": {},
   "outputs": [
    {
     "name": "stdout",
     "output_type": "stream",
     "text": [
      "Getting CIDs and dilutions...\n",
      "Getting basic molecular data...\n",
      "Adding dilution data...\n",
      "There are now 69 molecular vectors of length 4871, one for each molecule and dilution\n",
      "Building a matrix...\n",
      "The X matrix has shape (69x4871) (molecules by molecular descriptors)\n",
      "Purging data with too many NaNs...\n",
      "The X matrix has shape (69x4871) (molecules by good molecular descriptors)\n",
      "Imputing remaining NaN data...\n",
      "The X matrix now has shape (69x4871) (molecules by non-NaN good molecular descriptors)\n",
      "Purging data that is still bad, if any...\n",
      "The X matrix has shape (69x3033) (molecules by good molecular descriptors)\n",
      "Normalizing data for fitting...\n",
      "The X matrix now has shape (69x3033) molecules by non-NaN good molecular descriptors\n"
     ]
    }
   ],
   "source": [
    "X_leaderboard_other,good1,good2,means,stds,imputer = dream.make_X(molecular_data,\"leaderboard\",target_dilution='high',good1=good1,good2=good2,means=means,stds=stds)\n",
    "X_leaderboard_other.shape\n",
    "\n",
    "df_X_leaderboard_other = pd.DataFrame(data = X_leaderboard_other)\n",
    "df_X_leaderboard_other.to_csv('결과2/X_leaderboard_other.csv')\n",
    "\n",
    "df_X_leaderboard_other_good1 = pd.DataFrame(data = good1)\n",
    "df_X_leaderboard_other_good1.to_csv('결과2/X_leaderboard_other_good1.csv')\n",
    "\n",
    "df_X_leaderboard_other_good2 = pd.DataFrame(data = good2)\n",
    "df_X_leaderboard_other_good2.to_csv('결과2/X_leaderboard_other_good2.csv')\n",
    "\n",
    "df_X_leaderboard_other_means = pd.DataFrame(data = means)\n",
    "df_X_leaderboard_other_means.to_csv('결과2/X_leaderboard_other_means.csv')\n",
    "\n",
    "df_X_leaderboard_other_stds = pd.DataFrame(data = stds)\n",
    "df_X_leaderboard_other_stds.to_csv('결과2/X_leaderboard_other_stds.csv')"
   ]
  },
  {
   "cell_type": "code",
   "execution_count": 12,
   "metadata": {},
   "outputs": [
    {
     "name": "stdout",
     "output_type": "stream",
     "text": [
      "Getting CIDs and dilutions...\n",
      "Getting basic molecular data...\n",
      "Adding dilution data...\n",
      "There are now 69 molecular vectors of length 4871, one for each molecule and dilution\n",
      "Building a matrix...\n",
      "The X matrix has shape (69x4871) (molecules by molecular descriptors)\n",
      "Purging data with too many NaNs...\n",
      "The X matrix has shape (69x4871) (molecules by good molecular descriptors)\n",
      "Imputing remaining NaN data...\n",
      "The X matrix now has shape (69x4871) (molecules by non-NaN good molecular descriptors)\n",
      "Purging data that is still bad, if any...\n",
      "The X matrix has shape (69x3033) (molecules by good molecular descriptors)\n",
      "Normalizing data for fitting...\n",
      "The X matrix now has shape (69x3033) molecules by non-NaN good molecular descriptors\n"
     ]
    }
   ],
   "source": [
    "X_leaderboard_int,good1,good2,means,stds,imputer = dream.make_X(molecular_data,\"leaderboard\",target_dilution=-3,good1=good1,good2=good2,means=means,stds=stds)\n",
    "X_leaderboard_int.shape\n",
    "\n",
    "df_X_leaderboard_int = pd.DataFrame(data = X_leaderboard_int)\n",
    "df_X_leaderboard_int.to_csv('결과2/X_leaderboard_int.csv')\n",
    "\n",
    "df_X_leaderboard_int_good1 = pd.DataFrame(data = good1)\n",
    "df_X_leaderboard_int_good1.to_csv('결과2/X_leaderboard_int_good1.csv')\n",
    "\n",
    "df_X_leaderboard_int_good2 = pd.DataFrame(data = good2)\n",
    "df_X_leaderboard_int_good2.to_csv('결과2/X_leaderboard_int_good2.csv')\n",
    "\n",
    "df_X_leaderboard_int_means = pd.DataFrame(data = means)\n",
    "df_X_leaderboard_int_means.to_csv('결과2/X_leaderboard_int_means.csv')\n",
    "\n",
    "df_X_leaderboard_int_stds = pd.DataFrame(data = stds)\n",
    "df_X_leaderboard_int_stds.to_csv('결과2/X_leaderboard_int_stds.csv')"
   ]
  },
  {
   "cell_type": "code",
   "execution_count": 13,
   "metadata": {},
   "outputs": [
    {
     "name": "stdout",
     "output_type": "stream",
     "text": [
      "Getting CIDs and dilutions...\n",
      "Getting basic molecular data...\n",
      "Adding dilution data...\n",
      "There are now 69 molecular vectors of length 4871, one for each molecule and dilution\n",
      "Building a matrix...\n",
      "The X matrix has shape (69x4871) (molecules by molecular descriptors)\n",
      "Purging data with too many NaNs...\n",
      "The X matrix has shape (69x4871) (molecules by good molecular descriptors)\n",
      "Imputing remaining NaN data...\n",
      "The X matrix now has shape (69x4871) (molecules by non-NaN good molecular descriptors)\n",
      "Purging data that is still bad, if any...\n",
      "The X matrix has shape (69x3033) (molecules by good molecular descriptors)\n",
      "Normalizing data for fitting...\n",
      "The X matrix now has shape (69x3033) molecules by non-NaN good molecular descriptors\n"
     ]
    }
   ],
   "source": [
    "X_testset_other,good1,good2,means,stds,imputer = dream.make_X(molecular_data,\"testset\",target_dilution='high',good1=good1,good2=good2,means=means,stds=stds)\n",
    "X_testset_other.shape\n",
    "\n",
    "df_X_testset_other = pd.DataFrame(data = X_testset_other)\n",
    "df_X_testset_other.to_csv('결과2/X_testset_other.csv')\n",
    "\n",
    "df_X_testset_other_good1 = pd.DataFrame(data = good1)\n",
    "df_X_testset_other_good1.to_csv('결과2/X_testset_other_good1.csv')\n",
    "\n",
    "df_X_testset_other_good2 = pd.DataFrame(data = good2)\n",
    "df_X_testset_other_good2.to_csv('결과2/X_testset_other_good2.csv')\n",
    "\n",
    "df_X_testset_other_means = pd.DataFrame(data = means)\n",
    "df_X_testset_other_means.to_csv('결과2/X_testset_other_means.csv')\n",
    "\n",
    "df_X_testset_other_stds = pd.DataFrame(data = stds)\n",
    "df_X_testset_other_stds.to_csv('결과2/X_testset_other_stds.csv')"
   ]
  },
  {
   "cell_type": "code",
   "execution_count": 14,
   "metadata": {},
   "outputs": [
    {
     "name": "stdout",
     "output_type": "stream",
     "text": [
      "Getting CIDs and dilutions...\n",
      "Getting basic molecular data...\n",
      "Adding dilution data...\n",
      "There are now 69 molecular vectors of length 4871, one for each molecule and dilution\n",
      "Building a matrix...\n",
      "The X matrix has shape (69x4871) (molecules by molecular descriptors)\n",
      "Purging data with too many NaNs...\n",
      "The X matrix has shape (69x4871) (molecules by good molecular descriptors)\n",
      "Imputing remaining NaN data...\n",
      "The X matrix now has shape (69x4871) (molecules by non-NaN good molecular descriptors)\n",
      "Purging data that is still bad, if any...\n",
      "The X matrix has shape (69x3033) (molecules by good molecular descriptors)\n",
      "Normalizing data for fitting...\n",
      "The X matrix now has shape (69x3033) molecules by non-NaN good molecular descriptors\n"
     ]
    }
   ],
   "source": [
    "X_testset_int,good1,good2,means,stds,imputer = dream.make_X(molecular_data,\"testset\",target_dilution=-3,good1=good1,good2=good2,means=means,stds=stds)\n",
    "X_testset_int.shape\n",
    "\n",
    "df_X_testset_int = pd.DataFrame(data = X_testset_int)\n",
    "df_X_testset_int.to_csv('결과2/X_testset_int.csv')\n",
    "\n",
    "df_X_testset_int_good1 = pd.DataFrame(data = good1)\n",
    "df_X_testset_int_good1.to_csv('결과2/X_testset_int_good1.csv')\n",
    "\n",
    "df_X_testset_int_good2 = pd.DataFrame(data = good2)\n",
    "df_X_testset_int_good2.to_csv('결과2/X_testset_int_good2.csv')\n",
    "\n",
    "df_X_testset_int_means = pd.DataFrame(data = means)\n",
    "df_X_testset_int_means.to_csv('결과2/X_testset_int_means.csv')\n",
    "\n",
    "df_X_testset_int_stds = pd.DataFrame(data = stds)\n",
    "df_X_testset_int_stds.to_csv('결과2/X_testset_int_stds.csv')"
   ]
  },
  {
   "cell_type": "code",
   "execution_count": 15,
   "metadata": {},
   "outputs": [
    {
     "name": "stdout",
     "output_type": "stream",
     "text": [
      "Getting CIDs and dilutions...\n",
      "Getting basic molecular data...\n",
      "Adding dilution data...\n",
      "There are now 814 molecular vectors of length 4871, one for each molecule and dilution\n",
      "Building a matrix...\n",
      "The X matrix has shape (814x4871) (molecules by molecular descriptors)\n",
      "Purging data with too many NaNs...\n",
      "The X matrix has shape (814x4871) (molecules by good molecular descriptors)\n",
      "Imputing remaining NaN data...\n",
      "The X matrix now has shape (814x4871) (molecules by non-NaN good molecular descriptors)\n",
      "Purging data that is still bad, if any...\n",
      "The X matrix has shape (814x3033) (molecules by good molecular descriptors)\n",
      "Normalizing data for fitting...\n",
      "The X matrix now has shape (814x3033) molecules by non-NaN good molecular descriptors\n"
     ]
    }
   ],
   "source": [
    "X_all,good1,good2,means,stds,imputer = dream.make_X(molecular_data,['training','leaderboard'],good1=good1,good2=good2,means=means,stds=stds)\n",
    "X_all.shape\n",
    "\n",
    "df_X_all = pd.DataFrame(data = X_all)\n",
    "df_X_all.to_csv('결과2/X_all.csv')\n",
    "\n",
    "df_X_all_good1 = pd.DataFrame(data = good1)\n",
    "df_X_all_good1.to_csv('결과2/X_all_good1.csv')\n",
    "\n",
    "df_X_all_good2 = pd.DataFrame(data = good2)\n",
    "df_X_all_good2.to_csv('결과2/X_all_good2.csv')\n",
    "\n",
    "df_X_all_means = pd.DataFrame(data = means)\n",
    "df_X_all_means.to_csv('결과2/X_all_means.csv')\n",
    "\n",
    "df_X_all_stds = pd.DataFrame(data = stds)\n",
    "df_X_all_stds.to_csv('결과2/X_all_stds.csv')"
   ]
  },
  {
   "cell_type": "code",
   "execution_count": 16,
   "metadata": {},
   "outputs": [
    {
     "name": "stdout",
     "output_type": "stream",
     "text": [
      "Getting basic perceptual data...\n",
      "Flattening into vectors...\n",
      "Assembling into matrices...\n",
      "Y_obs['subject'] contains 49 matrices each with shape (676x21) (molecules by perceptual descriptors)\n",
      "The Y_obs['mean_std'] matrix has shape (676x42) (molecules by 2 x perceptual descriptors)\n",
      "Combining Y matrices...\n",
      "The Y['mean_std'] matrix now has shape (676x42) molecules by 2 x perceptual descriptors\n",
      "The Y['subject'] dict now has 49 matrices of shape (676x21) molecules by perceptual descriptors, one for each subject\n",
      "Getting basic perceptual data...\n",
      "Flattening into vectors...\n",
      "Assembling into matrices...\n",
      "Y_obs['subject'] contains 49 matrices each with shape (676x21) (molecules by perceptual descriptors)\n",
      "The Y_obs['mean_std'] matrix has shape (676x42) (molecules by 2 x perceptual descriptors)\n",
      "Combining Y matrices...\n",
      "The Y['mean_std'] matrix now has shape (676x42) molecules by 2 x perceptual descriptors\n",
      "The Y['subject'] dict now has 49 matrices of shape (676x21) molecules by perceptual descriptors, one for each subject\n"
     ]
    }
   ],
   "source": [
    "Y_training_imp,imputer = dream.make_Y_obs('training',target_dilution=None,imputer='median')\n",
    "Y_training_mask,imputer = dream.make_Y_obs('training',target_dilution=None,imputer='mask')\n",
    "\n",
    "#for i in range(1, 50):\n",
    "#    df_Y_training_subject = pd.DataFrame(data = Y_training['subject'][i])\n",
    "#    df_Y_training_subject.to_csv('결과2/Y_training_subject.csv')"
   ]
  },
  {
   "cell_type": "code",
   "execution_count": 17,
   "metadata": {},
   "outputs": [
    {
     "data": {
      "text/plain": [
       "dict"
      ]
     },
     "execution_count": 17,
     "metadata": {},
     "output_type": "execute_result"
    }
   ],
   "source": [
    "type(Y_training_imp)"
   ]
  },
  {
   "cell_type": "code",
   "execution_count": 18,
   "metadata": {},
   "outputs": [
    {
     "data": {
      "text/plain": [
       "dict_keys(['subject', 'mean_std'])"
      ]
     },
     "execution_count": 18,
     "metadata": {},
     "output_type": "execute_result"
    }
   ],
   "source": [
    "Y_training_imp.keys()"
   ]
  },
  {
   "cell_type": "code",
   "execution_count": 19,
   "metadata": {},
   "outputs": [
    {
     "data": {
      "text/plain": [
       "dict"
      ]
     },
     "execution_count": 19,
     "metadata": {},
     "output_type": "execute_result"
    }
   ],
   "source": [
    "type(Y_training_mask)"
   ]
  },
  {
   "cell_type": "code",
   "execution_count": 20,
   "metadata": {},
   "outputs": [
    {
     "data": {
      "text/plain": [
       "dict_keys(['subject', 'mean_std'])"
      ]
     },
     "execution_count": 20,
     "metadata": {},
     "output_type": "execute_result"
    }
   ],
   "source": [
    "Y_training_mask.keys()"
   ]
  },
  {
   "cell_type": "code",
   "execution_count": 21,
   "metadata": {},
   "outputs": [
    {
     "data": {
      "text/plain": [
       "dict"
      ]
     },
     "execution_count": 21,
     "metadata": {},
     "output_type": "execute_result"
    }
   ],
   "source": [
    "type(Y_training_imp['subject'])"
   ]
  },
  {
   "cell_type": "code",
   "execution_count": 22,
   "metadata": {},
   "outputs": [
    {
     "data": {
      "text/plain": [
       "dict_keys([1, 2, 3, 4, 5, 6, 7, 8, 9, 10, 11, 12, 13, 14, 15, 16, 17, 18, 19, 20, 21, 22, 23, 24, 25, 26, 27, 28, 29, 30, 31, 32, 33, 34, 35, 36, 37, 38, 39, 40, 41, 42, 43, 44, 45, 46, 47, 48, 49])"
      ]
     },
     "execution_count": 22,
     "metadata": {},
     "output_type": "execute_result"
    }
   ],
   "source": [
    "Y_training_imp['subject'].keys()"
   ]
  },
  {
   "cell_type": "code",
   "execution_count": 23,
   "metadata": {},
   "outputs": [],
   "source": [
    "for i in range(1, 50):\n",
    "    df_Y_training_imp_subject = pd.DataFrame(data = Y_training_imp['subject'][i])\n",
    "    df_Y_training_imp_subject.to_csv('결과2/Y_training_imp_subject.csv')\n",
    "    \n",
    "for i in range(1, 50):\n",
    "    df_Y_training_mask_subject = pd.DataFrame(data = Y_training_mask['subject'][i])\n",
    "    df_Y_training_mask_subject.to_csv('결과2/Y_training_mask_subject.csv')"
   ]
  },
  {
   "cell_type": "code",
   "execution_count": 24,
   "metadata": {},
   "outputs": [],
   "source": [
    "df_Y_training_imp_mean_std = pd.DataFrame(data = Y_training_imp['mean_std'])\n",
    "df_Y_training_imp_mean_std.to_csv('결과2/Y_training_imp_means_std.csv')\n",
    "\n",
    "df_Y_training_mask_mean_std = pd.DataFrame(data = Y_training_mask['mean_std'])\n",
    "df_Y_training_mask_mean_std.to_csv('결과2/Y_training_mask_means_std.csv')"
   ]
  },
  {
   "cell_type": "code",
   "execution_count": 25,
   "metadata": {},
   "outputs": [
    {
     "name": "stdout",
     "output_type": "stream",
     "text": [
      "Getting basic perceptual data...\n",
      "Flattening into vectors...\n",
      "Assembling into matrices...\n",
      "Y_obs['subject'] contains 49 matrices each with shape (69x21) (molecules by perceptual descriptors)\n",
      "The Y_obs['mean_std'] matrix has shape (69x42) (molecules by 2 x perceptual descriptors)\n",
      "Combining Y matrices...\n",
      "The Y['mean_std'] matrix now has shape (69x42) molecules by 2 x perceptual descriptors\n",
      "The Y['subject'] dict now has 49 matrices of shape (69x21) molecules by perceptual descriptors, one for each subject\n",
      "Getting basic perceptual data...\n",
      "Flattening into vectors...\n",
      "Assembling into matrices...\n",
      "Y_obs['subject'] contains 49 matrices each with shape (69x21) (molecules by perceptual descriptors)\n",
      "The Y_obs['mean_std'] matrix has shape (69x42) (molecules by 2 x perceptual descriptors)\n",
      "Combining Y matrices...\n",
      "The Y['mean_std'] matrix now has shape (69x42) molecules by 2 x perceptual descriptors\n",
      "The Y['subject'] dict now has 49 matrices of shape (69x21) molecules by perceptual descriptors, one for each subject\n"
     ]
    }
   ],
   "source": [
    "Y_leaderboard,imputer = dream.make_Y_obs('leaderboard',target_dilution='gold',imputer='mask')\n",
    "\n",
    "for i in range(1, 50):\n",
    "    df_Y_leaderboard_subject = pd.DataFrame(data = Y_leaderboard['subject'][i])\n",
    "    df_Y_leaderboard_subject.to_csv('결과2/Y_leaderboard_subject.csv')\n",
    "    \n",
    "df_Y_leaderboard_mean_std = pd.DataFrame(data = Y_leaderboard['mean_std'])\n",
    "df_Y_leaderboard_mean_std.to_csv('결과2/Y_leaderboard_means_std.csv')"
   ]
  },
  {
   "cell_type": "code",
   "execution_count": 26,
   "metadata": {},
   "outputs": [
    {
     "name": "stdout",
     "output_type": "stream",
     "text": [
      "Getting basic perceptual data...\n",
      "Flattening into vectors...\n",
      "Assembling into matrices...\n",
      "Y_obs['subject'] contains 49 matrices each with shape (676x21) (molecules by perceptual descriptors)\n",
      "The Y_obs['mean_std'] matrix has shape (676x42) (molecules by 2 x perceptual descriptors)\n",
      "Getting basic perceptual data...\n",
      "Flattening into vectors...\n",
      "Assembling into matrices...\n",
      "Y_obs['subject'] contains 49 matrices each with shape (138x21) (molecules by perceptual descriptors)\n",
      "The Y_obs['mean_std'] matrix has shape (138x42) (molecules by 2 x perceptual descriptors)\n",
      "Combining Y matrices...\n",
      "The Y['mean_std'] matrix now has shape (814x42) molecules by 2 x perceptual descriptors\n",
      "The Y['subject'] dict now has 49 matrices of shape (814x21) molecules by perceptual descriptors, one for each subject\n"
     ]
    }
   ],
   "source": [
    "Y_all_imp,imputer = dream.make_Y_obs(['training','leaderboard'],target_dilution=None,imputer='median')"
   ]
  },
  {
   "cell_type": "code",
   "execution_count": 27,
   "metadata": {},
   "outputs": [
    {
     "data": {
      "text/plain": [
       "{'subject': {1: masked_array(\n",
       "    data=[[7.0, 62.0, 0.0, ..., 0.0, 0.0, 0.0],\n",
       "          [37.0, 60.0, 0.0, ..., 0.0, 0.0, 0.0],\n",
       "          [0.0, 46.0, 0.0, ..., 0.0, 0.0, 0.0],\n",
       "          ...,\n",
       "          [74.0, 75.0, 56.0, ..., 0.0, 0.0, 0.0],\n",
       "          [56.0, 46.0, 0.0, ..., 0.0, 0.0, 53.0],\n",
       "          [76.0, 14.0, 0.0, ..., 0.0, 0.0, 0.0]],\n",
       "    mask=[[False, False, False, ..., False, False, False],\n",
       "          [False, False, False, ..., False, False, False],\n",
       "          [False, False, False, ..., False, False, False],\n",
       "          ...,\n",
       "          [False, False, False, ..., False, False, False],\n",
       "          [False, False, False, ..., False, False, False],\n",
       "          [False, False, False, ..., False, False, False]],\n",
       "    fill_value=1e+20),\n",
       "  2: masked_array(\n",
       "    data=[[55.0, 89.0, 0.0, ..., 0.0, 0.0, 5.0],\n",
       "          [64.0, 71.0, 0.0, ..., 0.0, 0.0, 7.0],\n",
       "          [0.0, 47.25, 0.5625, ..., 5.125, 5.6875, 14.4375],\n",
       "          ...,\n",
       "          [91.0, 60.0, 8.0, ..., 0.0, 0.0, 1.0],\n",
       "          [73.0, 65.0, 0.0, ..., 12.0, 0.0, 8.0],\n",
       "          [88.0, 60.0, 0.0, ..., 19.0, 0.0, 12.0]],\n",
       "    mask=[[False, False, False, ..., False, False, False],\n",
       "          [False, False, False, ..., False, False, False],\n",
       "          [False, False, False, ..., False, False, False],\n",
       "          ...,\n",
       "          [False, False, False, ..., False, False, False],\n",
       "          [False, False, False, ..., False, False, False],\n",
       "          [False, False, False, ..., False, False, False]],\n",
       "    fill_value=1e+20),\n",
       "  3: masked_array(\n",
       "    data=[[89.0, 68.0, 0.0, ..., 0.0, 0.0, 0.0],\n",
       "          [0.0, 48.95652173913044, 0.6304347826086957, ...,\n",
       "           1.3478260869565217, 9.26086956521739, 14.23913043478261],\n",
       "          [0.0, 47.25, 0.5625, ..., 5.125, 5.6875, 14.4375],\n",
       "          ...,\n",
       "          [73.0, 69.0, 0.0, ..., 0.0, 46.0, 0.0],\n",
       "          [63.0, 62.0, 0.0, ..., 0.0, 29.0, 48.0],\n",
       "          [88.0, 89.0, 0.0, ..., 0.0, 83.0, 45.0]],\n",
       "    mask=[[False, False, False, ..., False, False, False],\n",
       "          [False, False, False, ..., False, False, False],\n",
       "          [False, False, False, ..., False, False, False],\n",
       "          ...,\n",
       "          [False, False, False, ..., False, False, False],\n",
       "          [False, False, False, ..., False, False, False],\n",
       "          [False, False, False, ..., False, False, False]],\n",
       "    fill_value=1e+20),\n",
       "  4: masked_array(\n",
       "    data=[[29.0, 90.0, 0.0, ..., 0.0, 88.0, 0.0],\n",
       "          [100.0, 90.0, 0.0, ..., 0.0, 92.0, 0.0],\n",
       "          [20.0, 96.0, 0.0, ..., 0.0, 78.0, 0.0],\n",
       "          ...,\n",
       "          [81.0, 66.0, 19.0, ..., 0.0, 0.0, 63.0],\n",
       "          [9.0, 100.0, 0.0, ..., 0.0, 95.0, 0.0],\n",
       "          [83.0, 88.0, 0.0, ..., 0.0, 0.0, 0.0]],\n",
       "    mask=[[False, False, False, ..., False, False, False],\n",
       "          [False, False, False, ..., False, False, False],\n",
       "          [False, False, False, ..., False, False, False],\n",
       "          ...,\n",
       "          [False, False, False, ..., False, False, False],\n",
       "          [False, False, False, ..., False, False, False],\n",
       "          [False, False, False, ..., False, False, False]],\n",
       "    fill_value=1e+20),\n",
       "  5: masked_array(\n",
       "    data=[[0.0, 51.05882352941177, 0.4117647058823529, ...,\n",
       "           1.7941176470588236, 5.088235294117647, 14.529411764705882],\n",
       "          [58.0, 58.0, 0.0, ..., 0.0, 0.0, 0.0],\n",
       "          [0.0, 47.25, 0.5625, ..., 5.125, 5.6875, 14.4375],\n",
       "          ...,\n",
       "          [93.0, 35.0, 0.0, ..., 0.0, 0.0, 0.0],\n",
       "          [64.0, 39.0, 0.0, ..., 0.0, 0.0, 0.0],\n",
       "          [100.0, 77.0, 0.0, ..., 0.0, 0.0, 0.0]],\n",
       "    mask=[[False, False, False, ..., False, False, False],\n",
       "          [False, False, False, ..., False, False, False],\n",
       "          [False, False, False, ..., False, False, False],\n",
       "          ...,\n",
       "          [False, False, False, ..., False, False, False],\n",
       "          [False, False, False, ..., False, False, False],\n",
       "          [False, False, False, ..., False, False, False]],\n",
       "    fill_value=1e+20),\n",
       "  6: masked_array(\n",
       "    data=[[0.0, 51.05882352941177, 0.4117647058823529, ...,\n",
       "           1.7941176470588236, 5.088235294117647, 14.529411764705882],\n",
       "          [0.0, 49.0, 0.0, ..., 0.0, 0.0, 0.0],\n",
       "          [0.0, 47.25, 0.5625, ..., 5.125, 5.6875, 14.4375],\n",
       "          ...,\n",
       "          [55.0, 44.0, 0.0, ..., 0.0, 0.0, 0.0],\n",
       "          [0.0, 47.951219512195124, 0.7804878048780488, ...,\n",
       "           7.317073170731708, 7.219512195121951, 11.878048780487806],\n",
       "          [56.0, 54.0, 0.0, ..., 0.0, 0.0, 0.0]],\n",
       "    mask=[[False, False, False, ..., False, False, False],\n",
       "          [False, False, False, ..., False, False, False],\n",
       "          [False, False, False, ..., False, False, False],\n",
       "          ...,\n",
       "          [False, False, False, ..., False, False, False],\n",
       "          [False, False, False, ..., False, False, False],\n",
       "          [False, False, False, ..., False, False, False]],\n",
       "    fill_value=1e+20),\n",
       "  7: masked_array(\n",
       "    data=[[6.0, 0.0, 0.0, ..., 0.0, 0.0, 0.0],\n",
       "          [18.0, 11.0, 0.0, ..., 0.0, 8.0, 24.0],\n",
       "          [0.0, 72.0, 0.0, ..., 0.0, 0.0, 0.0],\n",
       "          ...,\n",
       "          [94.0, 96.0, 29.0, ..., 0.0, 0.0, 0.0],\n",
       "          [77.0, 95.0, 0.0, ..., 0.0, 32.0, 0.0],\n",
       "          [93.0, 93.0, 0.0, ..., 0.0, 0.0, 0.0]],\n",
       "    mask=[[False, False, False, ..., False, False, False],\n",
       "          [False, False, False, ..., False, False, False],\n",
       "          [False, False, False, ..., False, False, False],\n",
       "          ...,\n",
       "          [False, False, False, ..., False, False, False],\n",
       "          [False, False, False, ..., False, False, False],\n",
       "          [False, False, False, ..., False, False, False]],\n",
       "    fill_value=1e+20),\n",
       "  8: masked_array(\n",
       "    data=[[46.0, 47.0, 0.0, ..., 0.0, 0.0, 13.0],\n",
       "          [51.0, 63.0, 0.0, ..., 0.0, 0.0, 0.0],\n",
       "          [0.0, 47.25, 0.5625, ..., 5.125, 5.6875, 14.4375],\n",
       "          ...,\n",
       "          [78.0, 93.0, 32.0, ..., 0.0, 0.0, 0.0],\n",
       "          [88.0, 62.0, 0.0, ..., 0.0, 0.0, 0.0],\n",
       "          [60.0, 47.0, 0.0, ..., 0.0, 25.0, 0.0]],\n",
       "    mask=[[False, False, False, ..., False, False, False],\n",
       "          [False, False, False, ..., False, False, False],\n",
       "          [False, False, False, ..., False, False, False],\n",
       "          ...,\n",
       "          [False, False, False, ..., False, False, False],\n",
       "          [False, False, False, ..., False, False, False],\n",
       "          [False, False, False, ..., False, False, False]],\n",
       "    fill_value=1e+20),\n",
       "  9: masked_array(\n",
       "    data=[[0.0, 51.05882352941177, 0.4117647058823529, ...,\n",
       "           1.7941176470588236, 5.088235294117647, 14.529411764705882],\n",
       "          [100.0, 58.0, 0.0, ..., 0.0, 26.0, 0.0],\n",
       "          [0.0, 47.25, 0.5625, ..., 5.125, 5.6875, 14.4375],\n",
       "          ...,\n",
       "          [100.0, 66.0, 0.0, ..., 0.0, 23.0, 0.0],\n",
       "          [100.0, 36.0, 0.0, ..., 0.0, 0.0, 0.0],\n",
       "          [100.0, 0.0, 0.0, ..., 0.0, 0.0, 0.0]],\n",
       "    mask=[[False, False, False, ..., False, False, False],\n",
       "          [False, False, False, ..., False, False, False],\n",
       "          [False, False, False, ..., False, False, False],\n",
       "          ...,\n",
       "          [False, False, False, ..., False, False, False],\n",
       "          [False, False, False, ..., False, False, False],\n",
       "          [False, False, False, ..., False, False, False]],\n",
       "    fill_value=1e+20),\n",
       "  10: masked_array(\n",
       "    data=[[66.0, 45.0, 0.0, ..., 0.0, 0.0, 93.0],\n",
       "          [6.0, 49.0, 0.0, ..., 0.0, 0.0, 0.0],\n",
       "          [0.0, 47.25, 0.5625, ..., 5.125, 5.6875, 14.4375],\n",
       "          ...,\n",
       "          [89.0, 64.0, 0.0, ..., 0.0, 0.0, 0.0],\n",
       "          [0.0, 47.951219512195124, 0.7804878048780488, ...,\n",
       "           7.317073170731708, 7.219512195121951, 11.878048780487806],\n",
       "          [96.0, 0.0, 0.0, ..., 0.0, 0.0, 0.0]],\n",
       "    mask=[[False, False, False, ..., False, False, False],\n",
       "          [False, False, False, ..., False, False, False],\n",
       "          [False, False, False, ..., False, False, False],\n",
       "          ...,\n",
       "          [False, False, False, ..., False, False, False],\n",
       "          [False, False, False, ..., False, False, False],\n",
       "          [False, False, False, ..., False, False, False]],\n",
       "    fill_value=1e+20),\n",
       "  11: masked_array(\n",
       "    data=[[0.0, 51.05882352941177, 0.4117647058823529, ...,\n",
       "           1.7941176470588236, 5.088235294117647, 14.529411764705882],\n",
       "          [100.0, 0.0, 0.0, ..., 0.0, 0.0, 0.0],\n",
       "          [0.0, 47.25, 0.5625, ..., 5.125, 5.6875, 14.4375],\n",
       "          ...,\n",
       "          [100.0, 100.0, 0.0, ..., 0.0, 96.0, 0.0],\n",
       "          [3.0, 9.0, 0.0, ..., 0.0, 0.0, 0.0],\n",
       "          [100.0, 0.0, 0.0, ..., 0.0, 0.0, 0.0]],\n",
       "    mask=[[False, False, False, ..., False, False, False],\n",
       "          [False, False, False, ..., False, False, False],\n",
       "          [False, False, False, ..., False, False, False],\n",
       "          ...,\n",
       "          [False, False, False, ..., False, False, False],\n",
       "          [False, False, False, ..., False, False, False],\n",
       "          [False, False, False, ..., False, False, False]],\n",
       "    fill_value=1e+20),\n",
       "  12: masked_array(\n",
       "    data=[[78.0, 49.0, 0.0, ..., 25.0, 0.0, 0.0],\n",
       "          [51.0, 48.0, 0.0, ..., 0.0, 0.0, 0.0],\n",
       "          [0.0, 47.25, 0.5625, ..., 5.125, 5.6875, 14.4375],\n",
       "          ...,\n",
       "          [50.0, 48.0, 0.0, ..., 0.0, 25.0, 0.0],\n",
       "          [80.0, 27.0, 0.0, ..., 0.0, 0.0, 0.0],\n",
       "          [62.0, 4.0, 0.0, ..., 0.0, 0.0, 0.0]],\n",
       "    mask=[[False, False, False, ..., False, False, False],\n",
       "          [False, False, False, ..., False, False, False],\n",
       "          [False, False, False, ..., False, False, False],\n",
       "          ...,\n",
       "          [False, False, False, ..., False, False, False],\n",
       "          [False, False, False, ..., False, False, False],\n",
       "          [False, False, False, ..., False, False, False]],\n",
       "    fill_value=1e+20),\n",
       "  13: masked_array(\n",
       "    data=[[0.0, 51.05882352941177, 0.4117647058823529, ...,\n",
       "           1.7941176470588236, 5.088235294117647, 14.529411764705882],\n",
       "          [81.0, 77.0, 0.0, ..., 0.0, 96.0, 63.0],\n",
       "          [0.0, 47.25, 0.5625, ..., 5.125, 5.6875, 14.4375],\n",
       "          ...,\n",
       "          [100.0, 19.0, 0.0, ..., 38.0, 73.0, 49.0],\n",
       "          [69.0, 39.0, 0.0, ..., 15.0, 0.0, 28.0],\n",
       "          [100.0, 82.0, 0.0, ..., 100.0, 80.0, 0.0]],\n",
       "    mask=[[False, False, False, ..., False, False, False],\n",
       "          [False, False, False, ..., False, False, False],\n",
       "          [False, False, False, ..., False, False, False],\n",
       "          ...,\n",
       "          [False, False, False, ..., False, False, False],\n",
       "          [False, False, False, ..., False, False, False],\n",
       "          [False, False, False, ..., False, False, False]],\n",
       "    fill_value=1e+20),\n",
       "  14: masked_array(\n",
       "    data=[[0.0, 51.05882352941177, 0.4117647058823529, ...,\n",
       "           1.7941176470588236, 5.088235294117647, 14.529411764705882],\n",
       "          [0.0, 48.95652173913044, 0.6304347826086957, ...,\n",
       "           1.3478260869565217, 9.26086956521739, 14.23913043478261],\n",
       "          [0.0, 47.25, 0.5625, ..., 5.125, 5.6875, 14.4375],\n",
       "          ...,\n",
       "          [88.0, 33.0, 0.0, ..., 0.0, 100.0, 0.0],\n",
       "          [6.0, 39.0, 0.0, ..., 0.0, 0.0, 0.0],\n",
       "          [62.0, 0.0, 0.0, ..., 100.0, 0.0, 0.0]],\n",
       "    mask=[[False, False, False, ..., False, False, False],\n",
       "          [False, False, False, ..., False, False, False],\n",
       "          [False, False, False, ..., False, False, False],\n",
       "          ...,\n",
       "          [False, False, False, ..., False, False, False],\n",
       "          [False, False, False, ..., False, False, False],\n",
       "          [False, False, False, ..., False, False, False]],\n",
       "    fill_value=1e+20),\n",
       "  15: masked_array(\n",
       "    data=[[36.0, 52.0, 5.0, ..., 0.0, 42.0, 62.0],\n",
       "          [0.0, 48.95652173913044, 0.6304347826086957, ...,\n",
       "           1.3478260869565217, 9.26086956521739, 14.23913043478261],\n",
       "          [0.0, 47.25, 0.5625, ..., 5.125, 5.6875, 14.4375],\n",
       "          ...,\n",
       "          [69.0, 93.0, 0.0, ..., 0.0, 100.0, 0.0],\n",
       "          [59.0, 60.0, 0.0, ..., 0.0, 0.0, 54.0],\n",
       "          [57.0, 67.0, 0.0, ..., 0.0, 19.0, 59.0]],\n",
       "    mask=[[False, False, False, ..., False, False, False],\n",
       "          [False, False, False, ..., False, False, False],\n",
       "          [False, False, False, ..., False, False, False],\n",
       "          ...,\n",
       "          [False, False, False, ..., False, False, False],\n",
       "          [False, False, False, ..., False, False, False],\n",
       "          [False, False, False, ..., False, False, False]],\n",
       "    fill_value=1e+20),\n",
       "  16: masked_array(\n",
       "    data=[[76.0, 29.0, 0.0, ..., 0.0, 0.0, 38.0],\n",
       "          [64.0, 31.0, 11.0, ..., 0.0, 0.0, 27.0],\n",
       "          [0.0, 47.25, 0.5625, ..., 5.125, 5.6875, 14.4375],\n",
       "          ...,\n",
       "          [60.0, 29.0, 0.0, ..., 0.0, 0.0, 30.0],\n",
       "          [0.0, 47.951219512195124, 0.7804878048780488, ...,\n",
       "           7.317073170731708, 7.219512195121951, 11.878048780487806],\n",
       "          [64.0, 57.0, 0.0, ..., 56.0, 68.0, 0.0]],\n",
       "    mask=[[False, False, False, ..., False, False, False],\n",
       "          [False, False, False, ..., False, False, False],\n",
       "          [False, False, False, ..., False, False, False],\n",
       "          ...,\n",
       "          [False, False, False, ..., False, False, False],\n",
       "          [False, False, False, ..., False, False, False],\n",
       "          [False, False, False, ..., False, False, False]],\n",
       "    fill_value=1e+20),\n",
       "  17: masked_array(\n",
       "    data=[[0.0, 51.05882352941177, 0.4117647058823529, ...,\n",
       "           1.7941176470588236, 5.088235294117647, 14.529411764705882],\n",
       "          [41.0, 45.0, 0.0, ..., 0.0, 0.0, 0.0],\n",
       "          [0.0, 47.25, 0.5625, ..., 5.125, 5.6875, 14.4375],\n",
       "          ...,\n",
       "          [52.0, 41.0, 0.0, ..., 0.0, 0.0, 10.0],\n",
       "          [0.0, 47.951219512195124, 0.7804878048780488, ...,\n",
       "           7.317073170731708, 7.219512195121951, 11.878048780487806],\n",
       "          [70.0, 51.0, 0.0, ..., 0.0, 0.0, 27.0]],\n",
       "    mask=[[False, False, False, ..., False, False, False],\n",
       "          [False, False, False, ..., False, False, False],\n",
       "          [False, False, False, ..., False, False, False],\n",
       "          ...,\n",
       "          [False, False, False, ..., False, False, False],\n",
       "          [False, False, False, ..., False, False, False],\n",
       "          [False, False, False, ..., False, False, False]],\n",
       "    fill_value=1e+20),\n",
       "  18: masked_array(\n",
       "    data=[[13.0, 36.0, 0.0, ..., 0.0, 0.0, 31.0],\n",
       "          [53.0, 22.0, 0.0, ..., 11.0, 0.0, 0.0],\n",
       "          [0.0, 47.25, 0.5625, ..., 5.125, 5.6875, 14.4375],\n",
       "          ...,\n",
       "          [62.0, 2.0, 0.0, ..., 0.0, 0.0, 0.0],\n",
       "          [1.0, 90.0, 31.0, ..., 0.0, 45.0, 0.0],\n",
       "          [70.0, 75.0, 0.0, ..., 0.0, 0.0, 0.0]],\n",
       "    mask=[[False, False, False, ..., False, False, False],\n",
       "          [False, False, False, ..., False, False, False],\n",
       "          [False, False, False, ..., False, False, False],\n",
       "          ...,\n",
       "          [False, False, False, ..., False, False, False],\n",
       "          [False, False, False, ..., False, False, False],\n",
       "          [False, False, False, ..., False, False, False]],\n",
       "    fill_value=1e+20),\n",
       "  19: masked_array(\n",
       "    data=[[58.0, 33.0, 0.0, ..., 0.0, 0.0, 15.0],\n",
       "          [61.0, 16.0, 0.0, ..., 0.0, 0.0, 0.0],\n",
       "          [0.0, 47.25, 0.5625, ..., 5.125, 5.6875, 14.4375],\n",
       "          ...,\n",
       "          [61.0, 42.0, 0.0, ..., 0.0, 0.0, 0.0],\n",
       "          [61.0, 46.0, 0.0, ..., 0.0, 0.0, 0.0],\n",
       "          [71.0, 11.0, 0.0, ..., 0.0, 0.0, 0.0]],\n",
       "    mask=[[False, False, False, ..., False, False, False],\n",
       "          [False, False, False, ..., False, False, False],\n",
       "          [False, False, False, ..., False, False, False],\n",
       "          ...,\n",
       "          [False, False, False, ..., False, False, False],\n",
       "          [False, False, False, ..., False, False, False],\n",
       "          [False, False, False, ..., False, False, False]],\n",
       "    fill_value=1e+20),\n",
       "  20: masked_array(\n",
       "    data=[[57.0, 47.0, 0.0, ..., 0.0, 0.0, 24.0],\n",
       "          [66.0, 40.0, 0.0, ..., 0.0, 0.0, 25.0],\n",
       "          [0.0, 47.25, 0.5625, ..., 5.125, 5.6875, 14.4375],\n",
       "          ...,\n",
       "          [81.0, 69.0, 0.0, ..., 0.0, 41.0, 0.0],\n",
       "          [39.0, 33.0, 0.0, ..., 11.0, 0.0, 26.0],\n",
       "          [53.0, 29.0, 0.0, ..., 33.0, 18.0, 0.0]],\n",
       "    mask=[[False, False, False, ..., False, False, False],\n",
       "          [False, False, False, ..., False, False, False],\n",
       "          [False, False, False, ..., False, False, False],\n",
       "          ...,\n",
       "          [False, False, False, ..., False, False, False],\n",
       "          [False, False, False, ..., False, False, False],\n",
       "          [False, False, False, ..., False, False, False]],\n",
       "    fill_value=1e+20),\n",
       "  21: masked_array(\n",
       "    data=[[5.0, 2.0, 0.0, ..., 0.0, 0.0, 0.0],\n",
       "          [92.0, 80.0, 0.0, ..., 0.0, 0.0, 53.0],\n",
       "          [0.0, 47.25, 0.5625, ..., 5.125, 5.6875, 14.4375],\n",
       "          ...,\n",
       "          [100.0, 0.0, 0.0, ..., 0.0, 0.0, 0.0],\n",
       "          [0.0, 99.0, 0.0, ..., 33.0, 31.0, 0.0],\n",
       "          [98.0, 0.0, 0.0, ..., 0.0, 0.0, 6.0]],\n",
       "    mask=[[False, False, False, ..., False, False, False],\n",
       "          [False, False, False, ..., False, False, False],\n",
       "          [False, False, False, ..., False, False, False],\n",
       "          ...,\n",
       "          [False, False, False, ..., False, False, False],\n",
       "          [False, False, False, ..., False, False, False],\n",
       "          [False, False, False, ..., False, False, False]],\n",
       "    fill_value=1e+20),\n",
       "  22: masked_array(\n",
       "    data=[[30.0, 21.0, 0.0, ..., 0.0, 0.0, 0.0],\n",
       "          [29.0, 38.0, 0.0, ..., 0.0, 0.0, 0.0],\n",
       "          [5.0, 53.0, 0.0, ..., 0.0, 0.0, 0.0],\n",
       "          ...,\n",
       "          [91.0, 0.0, 0.0, ..., 0.0, 0.0, 0.0],\n",
       "          [85.0, 11.0, 0.0, ..., 0.0, 0.0, 0.0],\n",
       "          [54.0, 42.0, 0.0, ..., 87.0, 0.0, 0.0]],\n",
       "    mask=[[False, False, False, ..., False, False, False],\n",
       "          [False, False, False, ..., False, False, False],\n",
       "          [False, False, False, ..., False, False, False],\n",
       "          ...,\n",
       "          [False, False, False, ..., False, False, False],\n",
       "          [False, False, False, ..., False, False, False],\n",
       "          [False, False, False, ..., False, False, False]],\n",
       "    fill_value=1e+20),\n",
       "  23: masked_array(\n",
       "    data=[[0.0, 51.05882352941177, 0.4117647058823529, ...,\n",
       "           1.7941176470588236, 5.088235294117647, 14.529411764705882],\n",
       "          [54.0, 60.0, 0.0, ..., 0.0, 21.0, 0.0],\n",
       "          [3.0, 44.0, 0.0, ..., 0.0, 0.0, 0.0],\n",
       "          ...,\n",
       "          [65.0, 35.0, 0.0, ..., 0.0, 35.0, 0.0],\n",
       "          [37.0, 42.0, 0.0, ..., 0.0, 0.0, 0.0],\n",
       "          [90.0, 33.0, 0.0, ..., 36.0, 52.0, 0.0]],\n",
       "    mask=[[False, False, False, ..., False, False, False],\n",
       "          [False, False, False, ..., False, False, False],\n",
       "          [False, False, False, ..., False, False, False],\n",
       "          ...,\n",
       "          [False, False, False, ..., False, False, False],\n",
       "          [False, False, False, ..., False, False, False],\n",
       "          [False, False, False, ..., False, False, False]],\n",
       "    fill_value=1e+20),\n",
       "  24: masked_array(\n",
       "    data=[[44.0, 52.0, 0.0, ..., 18.0, 0.0, 0.0],\n",
       "          [77.0, 47.0, 0.0, ..., 0.0, 0.0, 14.0],\n",
       "          [0.0, 47.25, 0.5625, ..., 5.125, 5.6875, 14.4375],\n",
       "          ...,\n",
       "          [59.0, 54.0, 0.0, ..., 0.0, 55.0, 21.0],\n",
       "          [69.0, 48.0, 0.0, ..., 17.0, 0.0, 0.0],\n",
       "          [87.0, 35.0, 0.0, ..., 0.0, 0.0, 33.0]],\n",
       "    mask=[[False, False, False, ..., False, False, False],\n",
       "          [False, False, False, ..., False, False, False],\n",
       "          [False, False, False, ..., False, False, False],\n",
       "          ...,\n",
       "          [False, False, False, ..., False, False, False],\n",
       "          [False, False, False, ..., False, False, False],\n",
       "          [False, False, False, ..., False, False, False]],\n",
       "    fill_value=1e+20),\n",
       "  25: masked_array(\n",
       "    data=[[24.0, 33.0, 0.0, ..., 18.0, 18.0, 60.0],\n",
       "          [54.0, 39.0, 14.0, ..., 0.0, 0.0, 72.0],\n",
       "          [0.0, 39.0, 0.0, ..., 44.0, 0.0, 78.0],\n",
       "          ...,\n",
       "          [96.0, 32.0, 63.0, ..., 0.0, 0.0, 0.0],\n",
       "          [88.0, 39.0, 0.0, ..., 98.0, 0.0, 0.0],\n",
       "          [91.0, 62.0, 0.0, ..., 90.0, 49.0, 13.0]],\n",
       "    mask=[[False, False, False, ..., False, False, False],\n",
       "          [False, False, False, ..., False, False, False],\n",
       "          [False, False, False, ..., False, False, False],\n",
       "          ...,\n",
       "          [False, False, False, ..., False, False, False],\n",
       "          [False, False, False, ..., False, False, False],\n",
       "          [False, False, False, ..., False, False, False]],\n",
       "    fill_value=1e+20),\n",
       "  26: masked_array(\n",
       "    data=[[59.0, 45.0, 3.0, ..., 0.0, 0.0, 18.0],\n",
       "          [63.0, 44.0, 0.0, ..., 0.0, 0.0, 39.0],\n",
       "          [0.0, 49.0, 9.0, ..., 5.0, 3.0, 5.0],\n",
       "          ...,\n",
       "          [72.0, 60.0, 67.0, ..., 0.0, 0.0, 0.0],\n",
       "          [61.0, 49.0, 0.0, ..., 61.0, 0.0, 30.0],\n",
       "          [88.0, 85.0, 0.0, ..., 73.0, 6.0, 3.0]],\n",
       "    mask=[[False, False, False, ..., False, False, False],\n",
       "          [False, False, False, ..., False, False, False],\n",
       "          [False, False, False, ..., False, False, False],\n",
       "          ...,\n",
       "          [False, False, False, ..., False, False, False],\n",
       "          [False, False, False, ..., False, False, False],\n",
       "          [False, False, False, ..., False, False, False]],\n",
       "    fill_value=1e+20),\n",
       "  27: masked_array(\n",
       "    data=[[17.0, 42.0, 0.0, ..., 0.0, 0.0, 20.0],\n",
       "          [78.0, 73.0, 0.0, ..., 0.0, 24.0, 78.0],\n",
       "          [39.0, 51.0, 0.0, ..., 0.0, 0.0, 17.0],\n",
       "          ...,\n",
       "          [36.0, 64.0, 18.0, ..., 0.0, 0.0, 0.0],\n",
       "          [0.0, 47.951219512195124, 0.7804878048780488, ...,\n",
       "           7.317073170731708, 7.219512195121951, 11.878048780487806],\n",
       "          [72.0, 54.0, 0.0, ..., 100.0, 0.0, 0.0]],\n",
       "    mask=[[False, False, False, ..., False, False, False],\n",
       "          [False, False, False, ..., False, False, False],\n",
       "          [False, False, False, ..., False, False, False],\n",
       "          ...,\n",
       "          [False, False, False, ..., False, False, False],\n",
       "          [False, False, False, ..., False, False, False],\n",
       "          [False, False, False, ..., False, False, False]],\n",
       "    fill_value=1e+20),\n",
       "  28: masked_array(\n",
       "    data=[[26.0, 23.0, 0.0, ..., 0.0, 0.0, 0.0],\n",
       "          [22.0, 72.0, 0.0, ..., 43.0, 70.0, 0.0],\n",
       "          [0.0, 47.25, 0.5625, ..., 5.125, 5.6875, 14.4375],\n",
       "          ...,\n",
       "          [57.0, 89.0, 0.0, ..., 0.0, 0.0, 0.0],\n",
       "          [25.0, 90.0, 0.0, ..., 52.0, 0.0, 0.0],\n",
       "          [63.0, 88.0, 0.0, ..., 0.0, 0.0, 0.0]],\n",
       "    mask=[[False, False, False, ..., False, False, False],\n",
       "          [False, False, False, ..., False, False, False],\n",
       "          [False, False, False, ..., False, False, False],\n",
       "          ...,\n",
       "          [False, False, False, ..., False, False, False],\n",
       "          [False, False, False, ..., False, False, False],\n",
       "          [False, False, False, ..., False, False, False]],\n",
       "    fill_value=1e+20),\n",
       "  29: masked_array(\n",
       "    data=[[8.0, 89.0, 0.0, ..., 0.0, 0.0, 0.0],\n",
       "          [76.0, 15.0, 0.0, ..., 0.0, 0.0, 0.0],\n",
       "          [0.0, 47.25, 0.5625, ..., 5.125, 5.6875, 14.4375],\n",
       "          ...,\n",
       "          [98.0, 1.0, 0.0, ..., 0.0, 0.0, 100.0],\n",
       "          [0.0, 8.0, 0.0, ..., 0.0, 0.0, 0.0],\n",
       "          [78.0, 100.0, 0.0, ..., 0.0, 100.0, 0.0]],\n",
       "    mask=[[False, False, False, ..., False, False, False],\n",
       "          [False, False, False, ..., False, False, False],\n",
       "          [False, False, False, ..., False, False, False],\n",
       "          ...,\n",
       "          [False, False, False, ..., False, False, False],\n",
       "          [False, False, False, ..., False, False, False],\n",
       "          [False, False, False, ..., False, False, False]],\n",
       "    fill_value=1e+20),\n",
       "  30: masked_array(\n",
       "    data=[[0.0, 51.05882352941177, 0.4117647058823529, ...,\n",
       "           1.7941176470588236, 5.088235294117647, 14.529411764705882],\n",
       "          [61.0, 37.0, 0.0, ..., 0.0, 0.0, 47.0],\n",
       "          [0.0, 47.25, 0.5625, ..., 5.125, 5.6875, 14.4375],\n",
       "          ...,\n",
       "          [95.0, 100.0, 0.0, ..., 12.0, 95.0, 10.0],\n",
       "          [0.0, 47.951219512195124, 0.7804878048780488, ...,\n",
       "           7.317073170731708, 7.219512195121951, 11.878048780487806],\n",
       "          [70.0, 39.0, 0.0, ..., 44.0, 5.0, 0.0]],\n",
       "    mask=[[False, False, False, ..., False, False, False],\n",
       "          [False, False, False, ..., False, False, False],\n",
       "          [False, False, False, ..., False, False, False],\n",
       "          ...,\n",
       "          [False, False, False, ..., False, False, False],\n",
       "          [False, False, False, ..., False, False, False],\n",
       "          [False, False, False, ..., False, False, False]],\n",
       "    fill_value=1e+20),\n",
       "  31: masked_array(\n",
       "    data=[[0.0, 71.0, 0.0, ..., 0.0, 0.0, 0.0],\n",
       "          [0.0, 31.0, 0.0, ..., 0.0, 0.0, 0.0],\n",
       "          [0.0, 47.25, 0.5625, ..., 5.125, 5.6875, 14.4375],\n",
       "          ...,\n",
       "          [100.0, 11.0, 0.0, ..., 0.0, 0.0, 87.0],\n",
       "          [0.0, 47.951219512195124, 0.7804878048780488, ...,\n",
       "           7.317073170731708, 7.219512195121951, 11.878048780487806],\n",
       "          [100.0, 100.0, 0.0, ..., 28.0, 0.0, 0.0]],\n",
       "    mask=[[False, False, False, ..., False, False, False],\n",
       "          [False, False, False, ..., False, False, False],\n",
       "          [False, False, False, ..., False, False, False],\n",
       "          ...,\n",
       "          [False, False, False, ..., False, False, False],\n",
       "          [False, False, False, ..., False, False, False],\n",
       "          [False, False, False, ..., False, False, False]],\n",
       "    fill_value=1e+20),\n",
       "  32: masked_array(\n",
       "    data=[[24.0, 66.0, 0.0, ..., 0.0, 25.0, 33.0],\n",
       "          [93.0, 19.0, 0.0, ..., 0.0, 0.0, 0.0],\n",
       "          [0.0, 47.25, 0.5625, ..., 5.125, 5.6875, 14.4375],\n",
       "          ...,\n",
       "          [79.0, 10.0, 0.0, ..., 0.0, 0.0, 32.0],\n",
       "          [82.0, 23.0, 0.0, ..., 0.0, 0.0, 67.0],\n",
       "          [89.0, 66.0, 0.0, ..., 0.0, 0.0, 27.0]],\n",
       "    mask=[[False, False, False, ..., False, False, False],\n",
       "          [False, False, False, ..., False, False, False],\n",
       "          [False, False, False, ..., False, False, False],\n",
       "          ...,\n",
       "          [False, False, False, ..., False, False, False],\n",
       "          [False, False, False, ..., False, False, False],\n",
       "          [False, False, False, ..., False, False, False]],\n",
       "    fill_value=1e+20),\n",
       "  33: masked_array(\n",
       "    data=[[83.0, 77.0, 0.0, ..., 0.0, 0.0, 0.0],\n",
       "          [9.0, 19.0, 0.0, ..., 0.0, 0.0, 0.0],\n",
       "          [0.0, 47.25, 0.5625, ..., 5.125, 5.6875, 14.4375],\n",
       "          ...,\n",
       "          [87.0, 87.0, 0.0, ..., 0.0, 29.0, 76.0],\n",
       "          [14.0, 70.0, 0.0, ..., 0.0, 0.0, 38.0],\n",
       "          [74.0, 92.0, 0.0, ..., 100.0, 0.0, 0.0]],\n",
       "    mask=[[False, False, False, ..., False, False, False],\n",
       "          [False, False, False, ..., False, False, False],\n",
       "          [False, False, False, ..., False, False, False],\n",
       "          ...,\n",
       "          [False, False, False, ..., False, False, False],\n",
       "          [False, False, False, ..., False, False, False],\n",
       "          [False, False, False, ..., False, False, False]],\n",
       "    fill_value=1e+20),\n",
       "  34: masked_array(\n",
       "    data=[[0.0, 51.05882352941177, 0.4117647058823529, ...,\n",
       "           1.7941176470588236, 5.088235294117647, 14.529411764705882],\n",
       "          [44.0, 47.0, 0.0, ..., 0.0, 0.0, 0.0],\n",
       "          [0.0, 47.25, 0.5625, ..., 5.125, 5.6875, 14.4375],\n",
       "          ...,\n",
       "          [93.0, 86.0, 0.0, ..., 0.0, 72.0, 0.0],\n",
       "          [36.0, 42.0, 0.0, ..., 0.0, 0.0, 0.0],\n",
       "          [94.0, 19.0, 0.0, ..., 0.0, 0.0, 0.0]],\n",
       "    mask=[[False, False, False, ..., False, False, False],\n",
       "          [False, False, False, ..., False, False, False],\n",
       "          [False, False, False, ..., False, False, False],\n",
       "          ...,\n",
       "          [False, False, False, ..., False, False, False],\n",
       "          [False, False, False, ..., False, False, False],\n",
       "          [False, False, False, ..., False, False, False]],\n",
       "    fill_value=1e+20),\n",
       "  35: masked_array(\n",
       "    data=[[0.0, 38.0, 0.0, ..., 0.0, 0.0, 0.0],\n",
       "          [58.0, 5.0, 0.0, ..., 0.0, 0.0, 45.0],\n",
       "          [4.0, 10.0, 0.0, ..., 0.0, 0.0, 41.0],\n",
       "          ...,\n",
       "          [86.0, 100.0, 0.0, ..., 0.0, 100.0, 0.0],\n",
       "          [19.0, 8.0, 0.0, ..., 0.0, 0.0, 0.0],\n",
       "          [6.0, 41.0, 0.0, ..., 0.0, 51.0, 0.0]],\n",
       "    mask=[[False, False, False, ..., False, False, False],\n",
       "          [False, False, False, ..., False, False, False],\n",
       "          [False, False, False, ..., False, False, False],\n",
       "          ...,\n",
       "          [False, False, False, ..., False, False, False],\n",
       "          [False, False, False, ..., False, False, False],\n",
       "          [False, False, False, ..., False, False, False]],\n",
       "    fill_value=1e+20),\n",
       "  36: masked_array(\n",
       "    data=[[30.0, 55.0, 0.0, ..., 0.0, 0.0, 0.0],\n",
       "          [69.0, 53.0, 0.0, ..., 0.0, 0.0, 0.0],\n",
       "          [18.0, 55.0, 0.0, ..., 0.0, 0.0, 0.0],\n",
       "          ...,\n",
       "          [100.0, 71.0, 0.0, ..., 0.0, 0.0, 0.0],\n",
       "          [78.0, 18.0, 0.0, ..., 0.0, 0.0, 14.0],\n",
       "          [100.0, 43.0, 0.0, ..., 28.0, 0.0, 0.0]],\n",
       "    mask=[[False, False, False, ..., False, False, False],\n",
       "          [False, False, False, ..., False, False, False],\n",
       "          [False, False, False, ..., False, False, False],\n",
       "          ...,\n",
       "          [False, False, False, ..., False, False, False],\n",
       "          [False, False, False, ..., False, False, False],\n",
       "          [False, False, False, ..., False, False, False]],\n",
       "    fill_value=1e+20),\n",
       "  37: masked_array(\n",
       "    data=[[23.0, 41.0, 0.0, ..., 0.0, 0.0, 0.0],\n",
       "          [62.0, 35.0, 0.0, ..., 0.0, 0.0, 28.0],\n",
       "          [20.0, 36.0, 0.0, ..., 0.0, 10.0, 0.0],\n",
       "          ...,\n",
       "          [62.0, 75.0, 0.0, ..., 0.0, 0.0, 0.0],\n",
       "          [29.0, 40.0, 0.0, ..., 0.0, 0.0, 0.0],\n",
       "          [81.0, 87.0, 0.0, ..., 0.0, 25.0, 0.0]],\n",
       "    mask=[[False, False, False, ..., False, False, False],\n",
       "          [False, False, False, ..., False, False, False],\n",
       "          [False, False, False, ..., False, False, False],\n",
       "          ...,\n",
       "          [False, False, False, ..., False, False, False],\n",
       "          [False, False, False, ..., False, False, False],\n",
       "          [False, False, False, ..., False, False, False]],\n",
       "    fill_value=1e+20),\n",
       "  38: masked_array(\n",
       "    data=[[74.0, 58.0, 0.0, ..., 0.0, 0.0, 28.0],\n",
       "          [76.0, 36.0, 0.0, ..., 0.0, 0.0, 41.0],\n",
       "          [0.0, 47.25, 0.5625, ..., 5.125, 5.6875, 14.4375],\n",
       "          ...,\n",
       "          [89.0, 24.0, 0.0, ..., 0.0, 0.0, 0.0],\n",
       "          [77.0, 78.0, 0.0, ..., 0.0, 0.0, 0.0],\n",
       "          [88.0, 91.0, 0.0, ..., 0.0, 0.0, 0.0]],\n",
       "    mask=[[False, False, False, ..., False, False, False],\n",
       "          [False, False, False, ..., False, False, False],\n",
       "          [False, False, False, ..., False, False, False],\n",
       "          ...,\n",
       "          [False, False, False, ..., False, False, False],\n",
       "          [False, False, False, ..., False, False, False],\n",
       "          [False, False, False, ..., False, False, False]],\n",
       "    fill_value=1e+20),\n",
       "  39: masked_array(\n",
       "    data=[[0.0, 48.0, 6.0, ..., 0.0, 0.0, 0.0],\n",
       "          [35.0, 92.0, 0.0, ..., 7.0, 12.0, 0.0],\n",
       "          [37.0, 20.0, 0.0, ..., 0.0, 0.0, 85.0],\n",
       "          ...,\n",
       "          [71.0, 77.0, 0.0, ..., 0.0, 0.0, 0.0],\n",
       "          [0.0, 47.951219512195124, 0.7804878048780488, ...,\n",
       "           7.317073170731708, 7.219512195121951, 11.878048780487806],\n",
       "          [67.0, 42.0, 0.0, ..., 62.0, 0.0, 0.0]],\n",
       "    mask=[[False, False, False, ..., False, False, False],\n",
       "          [False, False, False, ..., False, False, False],\n",
       "          [False, False, False, ..., False, False, False],\n",
       "          ...,\n",
       "          [False, False, False, ..., False, False, False],\n",
       "          [False, False, False, ..., False, False, False],\n",
       "          [False, False, False, ..., False, False, False]],\n",
       "    fill_value=1e+20),\n",
       "  40: masked_array(\n",
       "    data=[[0.0, 51.05882352941177, 0.4117647058823529, ...,\n",
       "           1.7941176470588236, 5.088235294117647, 14.529411764705882],\n",
       "          [76.0, 76.0, 0.0, ..., 0.0, 0.0, 33.0],\n",
       "          [0.0, 47.25, 0.5625, ..., 5.125, 5.6875, 14.4375],\n",
       "          ...,\n",
       "          [90.0, 95.0, 0.0, ..., 0.0, 0.0, 54.0],\n",
       "          [82.0, 0.0, 0.0, ..., 0.0, 0.0, 53.0],\n",
       "          [91.0, 76.0, 57.0, ..., 49.0, 0.0, 0.0]],\n",
       "    mask=[[False, False, False, ..., False, False, False],\n",
       "          [False, False, False, ..., False, False, False],\n",
       "          [False, False, False, ..., False, False, False],\n",
       "          ...,\n",
       "          [False, False, False, ..., False, False, False],\n",
       "          [False, False, False, ..., False, False, False],\n",
       "          [False, False, False, ..., False, False, False]],\n",
       "    fill_value=1e+20),\n",
       "  41: masked_array(\n",
       "    data=[[0.0, 51.05882352941177, 0.4117647058823529, ...,\n",
       "           1.7941176470588236, 5.088235294117647, 14.529411764705882],\n",
       "          [49.0, 53.0, 3.0, ..., 0.0, 5.0, 0.0],\n",
       "          [0.0, 47.25, 0.5625, ..., 5.125, 5.6875, 14.4375],\n",
       "          ...,\n",
       "          [77.0, 100.0, 100.0, ..., 5.0, 11.0, 0.0],\n",
       "          [63.0, 73.0, 0.0, ..., 0.0, 40.0, 0.0],\n",
       "          [68.0, 20.0, 0.0, ..., 0.0, 0.0, 0.0]],\n",
       "    mask=[[False, False, False, ..., False, False, False],\n",
       "          [False, False, False, ..., False, False, False],\n",
       "          [False, False, False, ..., False, False, False],\n",
       "          ...,\n",
       "          [False, False, False, ..., False, False, False],\n",
       "          [False, False, False, ..., False, False, False],\n",
       "          [False, False, False, ..., False, False, False]],\n",
       "    fill_value=1e+20),\n",
       "  42: masked_array(\n",
       "    data=[[2.0, 54.0, 0.0, ..., 0.0, 0.0, 8.0],\n",
       "          [0.0, 45.0, 0.0, ..., 0.0, 0.0, 18.0],\n",
       "          [1.0, 45.0, 0.0, ..., 0.0, 0.0, 5.0],\n",
       "          ...,\n",
       "          [77.0, 60.0, 0.0, ..., 0.0, 62.0, 0.0],\n",
       "          [56.0, 36.0, 0.0, ..., 0.0, 0.0, 51.0],\n",
       "          [82.0, 35.0, 0.0, ..., 0.0, 0.0, 89.0]],\n",
       "    mask=[[False, False, False, ..., False, False, False],\n",
       "          [False, False, False, ..., False, False, False],\n",
       "          [False, False, False, ..., False, False, False],\n",
       "          ...,\n",
       "          [False, False, False, ..., False, False, False],\n",
       "          [False, False, False, ..., False, False, False],\n",
       "          [False, False, False, ..., False, False, False]],\n",
       "    fill_value=1e+20),\n",
       "  43: masked_array(\n",
       "    data=[[28.0, 58.0, 0.0, ..., 0.0, 0.0, 46.0],\n",
       "          [78.0, 37.0, 0.0, ..., 0.0, 9.0, 40.0],\n",
       "          [0.0, 47.25, 0.5625, ..., 5.125, 5.6875, 14.4375],\n",
       "          ...,\n",
       "          [100.0, 0.0, 0.0, ..., 0.0, 0.0, 16.0],\n",
       "          [32.0, 3.0, 0.0, ..., 0.0, 0.0, 0.0],\n",
       "          [100.0, 7.0, 0.0, ..., 0.0, 0.0, 0.0]],\n",
       "    mask=[[False, False, False, ..., False, False, False],\n",
       "          [False, False, False, ..., False, False, False],\n",
       "          [False, False, False, ..., False, False, False],\n",
       "          ...,\n",
       "          [False, False, False, ..., False, False, False],\n",
       "          [False, False, False, ..., False, False, False],\n",
       "          [False, False, False, ..., False, False, False]],\n",
       "    fill_value=1e+20),\n",
       "  44: masked_array(\n",
       "    data=[[33.0, 92.0, 0.0, ..., 0.0, 0.0, 0.0],\n",
       "          [21.0, 69.0, 0.0, ..., 0.0, 9.0, 0.0],\n",
       "          [24.0, 38.0, 0.0, ..., 0.0, 0.0, 0.0],\n",
       "          ...,\n",
       "          [78.0, 78.0, 0.0, ..., 0.0, 100.0, 0.0],\n",
       "          [33.0, 40.0, 0.0, ..., 0.0, 0.0, 0.0],\n",
       "          [76.0, 55.0, 0.0, ..., 0.0, 49.0, 0.0]],\n",
       "    mask=[[False, False, False, ..., False, False, False],\n",
       "          [False, False, False, ..., False, False, False],\n",
       "          [False, False, False, ..., False, False, False],\n",
       "          ...,\n",
       "          [False, False, False, ..., False, False, False],\n",
       "          [False, False, False, ..., False, False, False],\n",
       "          [False, False, False, ..., False, False, False]],\n",
       "    fill_value=1e+20),\n",
       "  45: masked_array(\n",
       "    data=[[64.0, 59.0, 0.0, ..., 0.0, 0.0, 0.0],\n",
       "          [50.0, 57.0, 0.0, ..., 0.0, 0.0, 0.0],\n",
       "          [52.0, 40.0, 0.0, ..., 33.0, 0.0, 0.0],\n",
       "          ...,\n",
       "          [50.0, 76.0, 0.0, ..., 0.0, 73.0, 0.0],\n",
       "          [0.0, 52.0, 0.0, ..., 0.0, 23.0, 0.0],\n",
       "          [62.0, 67.0, 0.0, ..., 0.0, 0.0, 0.0]],\n",
       "    mask=[[False, False, False, ..., False, False, False],\n",
       "          [False, False, False, ..., False, False, False],\n",
       "          [False, False, False, ..., False, False, False],\n",
       "          ...,\n",
       "          [False, False, False, ..., False, False, False],\n",
       "          [False, False, False, ..., False, False, False],\n",
       "          [False, False, False, ..., False, False, False]],\n",
       "    fill_value=1e+20),\n",
       "  46: masked_array(\n",
       "    data=[[0.0, 51.05882352941177, 0.4117647058823529, ...,\n",
       "           1.7941176470588236, 5.088235294117647, 14.529411764705882],\n",
       "          [50.0, 49.0, 1.0, ..., 1.0, 1.0, 1.0],\n",
       "          [0.0, 47.25, 0.5625, ..., 5.125, 5.6875, 14.4375],\n",
       "          ...,\n",
       "          [32.0, 26.0, 3.0, ..., 7.0, 23.0, 19.0],\n",
       "          [48.0, 49.0, 1.0, ..., 1.0, 1.0, 1.0],\n",
       "          [72.0, 55.0, 1.0, ..., 1.0, 52.0, 1.0]],\n",
       "    mask=[[False, False, False, ..., False, False, False],\n",
       "          [False, False, False, ..., False, False, False],\n",
       "          [False, False, False, ..., False, False, False],\n",
       "          ...,\n",
       "          [False, False, False, ..., False, False, False],\n",
       "          [False, False, False, ..., False, False, False],\n",
       "          [False, False, False, ..., False, False, False]],\n",
       "    fill_value=1e+20),\n",
       "  47: masked_array(\n",
       "    data=[[0.0, 51.05882352941177, 0.4117647058823529, ...,\n",
       "           1.7941176470588236, 5.088235294117647, 14.529411764705882],\n",
       "          [85.0, 97.0, 0.0, ..., 0.0, 0.0, 0.0],\n",
       "          [0.0, 47.25, 0.5625, ..., 5.125, 5.6875, 14.4375],\n",
       "          ...,\n",
       "          [91.0, 60.0, 0.0, ..., 0.0, 0.0, 0.0],\n",
       "          [38.0, 63.0, 0.0, ..., 0.0, 0.0, 16.0],\n",
       "          [97.0, 40.0, 0.0, ..., 0.0, 0.0, 63.0]],\n",
       "    mask=[[False, False, False, ..., False, False, False],\n",
       "          [False, False, False, ..., False, False, False],\n",
       "          [False, False, False, ..., False, False, False],\n",
       "          ...,\n",
       "          [False, False, False, ..., False, False, False],\n",
       "          [False, False, False, ..., False, False, False],\n",
       "          [False, False, False, ..., False, False, False]],\n",
       "    fill_value=1e+20),\n",
       "  48: masked_array(\n",
       "    data=[[0.0, 51.05882352941177, 0.4117647058823529, ...,\n",
       "           1.7941176470588236, 5.088235294117647, 14.529411764705882],\n",
       "          [9.0, 96.0, 0.0, ..., 0.0, 53.0, 0.0],\n",
       "          [0.0, 62.0, 0.0, ..., 0.0, 0.0, 0.0],\n",
       "          ...,\n",
       "          [100.0, 3.0, 0.0, ..., 0.0, 0.0, 0.0],\n",
       "          [5.0, 90.0, 0.0, ..., 0.0, 0.0, 0.0],\n",
       "          [94.0, 33.0, 0.0, ..., 0.0, 0.0, 7.0]],\n",
       "    mask=[[False, False, False, ..., False, False, False],\n",
       "          [False, False, False, ..., False, False, False],\n",
       "          [False, False, False, ..., False, False, False],\n",
       "          ...,\n",
       "          [False, False, False, ..., False, False, False],\n",
       "          [False, False, False, ..., False, False, False],\n",
       "          [False, False, False, ..., False, False, False]],\n",
       "    fill_value=1e+20),\n",
       "  49: masked_array(\n",
       "    data=[[18.0, 65.0, 0.0, ..., 0.0, 0.0, 0.0],\n",
       "          [7.0, 43.0, 0.0, ..., 0.0, 0.0, 0.0],\n",
       "          [0.0, 47.25, 0.5625, ..., 5.125, 5.6875, 14.4375],\n",
       "          ...,\n",
       "          [84.0, 90.0, 0.0, ..., 0.0, 100.0, 0.0],\n",
       "          [32.0, 47.0, 0.0, ..., 0.0, 0.0, 0.0],\n",
       "          [60.0, 52.0, 0.0, ..., 3.0, 0.0, 0.0]],\n",
       "    mask=[[False, False, False, ..., False, False, False],\n",
       "          [False, False, False, ..., False, False, False],\n",
       "          [False, False, False, ..., False, False, False],\n",
       "          ...,\n",
       "          [False, False, False, ..., False, False, False],\n",
       "          [False, False, False, ..., False, False, False],\n",
       "          [False, False, False, ..., False, False, False]],\n",
       "    fill_value=1e+20)},\n",
       " 'mean_std': array([[24.65306122, 51.05882353,  0.41176471, ...,  4.92349559,\n",
       "         14.12498915, 18.87043024],\n",
       "        [49.55102041, 48.95652174,  0.63043478, ...,  6.35156605,\n",
       "         22.14199891, 21.47108985],\n",
       "        [ 4.55102041, 47.25      ,  0.5625    , ...,  7.40178751,\n",
       "         10.87374274, 15.80739377],\n",
       "        ...,\n",
       "        [78.89795918, 55.26530612,  8.06122449, ...,  5.74374845,\n",
       "         37.15687693, 24.67701222],\n",
       "        [39.53061224, 47.95121951,  0.7804878 , ..., 18.08710294,\n",
       "         16.99817661, 18.52047867],\n",
       "        [78.3877551 , 50.14285714,  1.18367347, ..., 34.11434105,\n",
       "         26.31051496, 18.99890348]])}"
      ]
     },
     "execution_count": 27,
     "metadata": {},
     "output_type": "execute_result"
    }
   ],
   "source": [
    "Y_all_imp"
   ]
  },
  {
   "cell_type": "code",
   "execution_count": 28,
   "metadata": {},
   "outputs": [
    {
     "data": {
      "text/plain": [
       "dict"
      ]
     },
     "execution_count": 28,
     "metadata": {},
     "output_type": "execute_result"
    }
   ],
   "source": [
    "type(Y_all_imp)"
   ]
  },
  {
   "cell_type": "code",
   "execution_count": 29,
   "metadata": {},
   "outputs": [
    {
     "data": {
      "text/plain": [
       "dict_keys(['subject', 'mean_std'])"
      ]
     },
     "execution_count": 29,
     "metadata": {},
     "output_type": "execute_result"
    }
   ],
   "source": [
    "Y_all_imp.keys()"
   ]
  },
  {
   "cell_type": "code",
   "execution_count": 30,
   "metadata": {},
   "outputs": [
    {
     "data": {
      "text/plain": [
       "dict"
      ]
     },
     "execution_count": 30,
     "metadata": {},
     "output_type": "execute_result"
    }
   ],
   "source": [
    "type(Y_all_imp['subject'])"
   ]
  },
  {
   "cell_type": "code",
   "execution_count": 31,
   "metadata": {},
   "outputs": [
    {
     "data": {
      "text/plain": [
       "dict_keys([1, 2, 3, 4, 5, 6, 7, 8, 9, 10, 11, 12, 13, 14, 15, 16, 17, 18, 19, 20, 21, 22, 23, 24, 25, 26, 27, 28, 29, 30, 31, 32, 33, 34, 35, 36, 37, 38, 39, 40, 41, 42, 43, 44, 45, 46, 47, 48, 49])"
      ]
     },
     "execution_count": 31,
     "metadata": {},
     "output_type": "execute_result"
    }
   ],
   "source": [
    "Y_all_imp['subject'].keys()"
   ]
  },
  {
   "cell_type": "code",
   "execution_count": 32,
   "metadata": {},
   "outputs": [
    {
     "data": {
      "text/plain": [
       "masked_array(\n",
       "  data=[[7.0, 62.0, 0.0, ..., 0.0, 0.0, 0.0],\n",
       "        [37.0, 60.0, 0.0, ..., 0.0, 0.0, 0.0],\n",
       "        [0.0, 46.0, 0.0, ..., 0.0, 0.0, 0.0],\n",
       "        ...,\n",
       "        [74.0, 75.0, 56.0, ..., 0.0, 0.0, 0.0],\n",
       "        [56.0, 46.0, 0.0, ..., 0.0, 0.0, 53.0],\n",
       "        [76.0, 14.0, 0.0, ..., 0.0, 0.0, 0.0]],\n",
       "  mask=[[False, False, False, ..., False, False, False],\n",
       "        [False, False, False, ..., False, False, False],\n",
       "        [False, False, False, ..., False, False, False],\n",
       "        ...,\n",
       "        [False, False, False, ..., False, False, False],\n",
       "        [False, False, False, ..., False, False, False],\n",
       "        [False, False, False, ..., False, False, False]],\n",
       "  fill_value=1e+20)"
      ]
     },
     "execution_count": 32,
     "metadata": {},
     "output_type": "execute_result"
    }
   ],
   "source": [
    "Y_all_imp['subject'][1]"
   ]
  },
  {
   "cell_type": "code",
   "execution_count": 33,
   "metadata": {},
   "outputs": [],
   "source": [
    "for i in range(1, 50):\n",
    "    df_Y_all_imp_subject = pd.DataFrame(data = Y_all_imp['subject'][i])\n",
    "    df_Y_all_imp_subject.to_csv('결과2/Y_all_imp_subject.csv')\n",
    "    \n",
    "df_Y_all_imp_mean_std = pd.DataFrame(data = Y_all_imp['mean_std'])\n",
    "df_Y_all_imp_mean_std.to_csv('결과2/Y_all_imp_means_std.csv')"
   ]
  },
  {
   "cell_type": "code",
   "execution_count": 34,
   "metadata": {},
   "outputs": [
    {
     "name": "stdout",
     "output_type": "stream",
     "text": [
      "Getting basic perceptual data...\n",
      "Flattening into vectors...\n",
      "Assembling into matrices...\n",
      "Y_obs['subject'] contains 49 matrices each with shape (676x21) (molecules by perceptual descriptors)\n",
      "The Y_obs['mean_std'] matrix has shape (676x42) (molecules by 2 x perceptual descriptors)\n",
      "Getting basic perceptual data...\n",
      "Flattening into vectors...\n",
      "Assembling into matrices...\n",
      "Y_obs['subject'] contains 49 matrices each with shape (138x21) (molecules by perceptual descriptors)\n",
      "The Y_obs['mean_std'] matrix has shape (138x42) (molecules by 2 x perceptual descriptors)\n",
      "Combining Y matrices...\n",
      "The Y['mean_std'] matrix now has shape (814x42) molecules by 2 x perceptual descriptors\n",
      "The Y['subject'] dict now has 49 matrices of shape (814x21) molecules by perceptual descriptors, one for each subject\n"
     ]
    }
   ],
   "source": [
    "Y_all_mask,imputer = dream.make_Y_obs(['training','leaderboard'],target_dilution=None,imputer='mask')"
   ]
  },
  {
   "cell_type": "code",
   "execution_count": 35,
   "metadata": {},
   "outputs": [],
   "source": [
    "for i in range(1, 50):\n",
    "    df_Y_all_mask_subject = pd.DataFrame(data = Y_all_mask['subject'][i])\n",
    "    df_Y_all_mask_subject.to_csv('결과2/Y_all_mask_subject.csv')\n",
    "    \n",
    "df_Y_all_mask_mean_std = pd.DataFrame(data = Y_all_mask['mean_std'])\n",
    "df_Y_all_mask_mean_std.to_csv('결과2/Y_all_mask_means_std.csv')"
   ]
  },
  {
   "cell_type": "markdown",
   "metadata": {},
   "source": [
    "### Data preparation"
   ]
  },
  {
   "cell_type": "code",
   "execution_count": 36,
   "metadata": {},
   "outputs": [
    {
     "data": {
      "text/plain": [
       "Text(0.5, 0, 'Perceptual descriptor subject-averaged values')"
      ]
     },
     "execution_count": 36,
     "metadata": {},
     "output_type": "execute_result"
    },
    {
     "data": {
      "image/png": "[encoded data removed]",
      "text/plain": [
       "<Figure size 432x288 with 1 Axes>"
      ]
     },
     "metadata": {
      "needs_background": "light"
     },
     "output_type": "display_data"
    },
    {
     "data": {
      "image/png": "[encoded data removed]",
      "text/plain": [
       "<Figure size 432x288 with 1 Axes>"
      ]
     },
     "metadata": {
      "needs_background": "light"
     },
     "output_type": "display_data"
    }
   ],
   "source": [
    "# Show the range of values for the molecular and perceptual descriptors.  \n",
    "plt.hist(X_training.ravel())\n",
    "plt.yscale('log')\n",
    "plt.ylabel('Count')\n",
    "plt.xlabel('Cube root transformed, N(0,1) normalized molecular descriptor values')\n",
    "plt.figure()\n",
    "plt.hist(Y_training_imp['mean_std'][:21].ravel())\n",
    "plt.yscale('log')\n",
    "plt.ylabel('Count')\n",
    "plt.xlabel('Perceptual descriptor subject-averaged values')"
   ]
  },
  {
   "cell_type": "markdown",
   "metadata": {},
   "source": [
    "## Fitting and Generating Submission Files"
   ]
  },
  {
   "cell_type": "code",
   "execution_count": 37,
   "metadata": {},
   "outputs": [],
   "source": [
    "write = False # Set to True to actually generate the prediction files.  \n",
    "n_estimators = 25 # Set this to a high number (e.g. 1000) to get a good fit.  \n",
    "\n",
    "# Best parameters, determined independently.  \n",
    "max_features = {'int':{'mean':None,'sigma':None},\n",
    "                'ple':{'mean':100,'sigma':None},\n",
    "                'dec':{'mean':500,'sigma':500}}\n",
    "min_samples_leaf = {'int':{'mean':1,'sigma':4},\n",
    "                'ple':{'mean':1,'sigma':1},\n",
    "                'dec':{'mean':1,'sigma':1}}\n",
    "max_depth = {'int':{'mean':None,'sigma':2},\n",
    "                'ple':{'mean':10,'sigma':10},\n",
    "                'dec':{'mean':10,'sigma':10}}\n",
    "et = {'int':{'mean':True,'sigma':True},\n",
    "                'ple':{'mean':False,'sigma':False},\n",
    "                'dec':{'mean':False,'sigma':False}}\n",
    "#et['int'] = {'mean':False,'sigma':False} # Uncomment to get a correct score estimate, or leave commented to get best fit.  \n",
    "use_mask = {'int':{'mean':False,'sigma':True},\n",
    "                'ple':{'mean':False,'sigma':True},\n",
    "                'dec':{'mean':False,'sigma':True}}"
   ]
  },
  {
   "cell_type": "code",
   "execution_count": 38,
   "metadata": {},
   "outputs": [
    {
     "name": "stdout",
     "output_type": "stream",
     "text": [
      "For subchallenge 2:\n",
      "\tScore = 7.36\n",
      "\tint_mean = 1.000\n",
      "\tint_sigma = 0.151\n",
      "\tple_mean = 0.599\n",
      "\tple_sigma = 0.239\n",
      "\tdec_mean = 0.422\n",
      "\tdec_sigma = 0.330\n"
     ]
    }
   ],
   "source": [
    "rfcs_leaderboard,score,rs = fit2.rfc_final(X_training,Y_training_imp['mean_std'],Y_training_mask['mean_std'],\n",
    "                            max_features,min_samples_leaf,max_depth,et,use_mask,\n",
    "                            n_estimators=n_estimators)"
   ]
  },
  {
   "cell_type": "code",
   "execution_count": 39,
   "metadata": {},
   "outputs": [
    {
     "data": {
      "text/plain": [
       "dict"
      ]
     },
     "execution_count": 39,
     "metadata": {},
     "output_type": "execute_result"
    }
   ],
   "source": [
    "type(rfcs_leaderboard)"
   ]
  },
  {
   "cell_type": "code",
   "execution_count": 40,
   "metadata": {},
   "outputs": [
    {
     "data": {
      "text/plain": [
       "dict_keys(['int', 'ple', 'dec'])"
      ]
     },
     "execution_count": 40,
     "metadata": {},
     "output_type": "execute_result"
    }
   ],
   "source": [
    "rfcs_leaderboard.keys()"
   ]
  },
  {
   "cell_type": "code",
   "execution_count": 41,
   "metadata": {},
   "outputs": [],
   "source": [
    "df_rfcs_leaderboard = pd.DataFrame(data = rfcs_leaderboard)\n",
    "df_rfcs_leaderboard.to_csv('결과2/rfcs_leaderboard.csv')"
   ]
  },
  {
   "cell_type": "code",
   "execution_count": 42,
   "metadata": {},
   "outputs": [],
   "source": [
    "_ = loading.make_prediction_files(rfcs_leaderboard,X_leaderboard_int,X_leaderboard_other,'leaderboard',2,write=False)"
   ]
  },
  {
   "cell_type": "code",
   "execution_count": 43,
   "metadata": {},
   "outputs": [
    {
     "data": {
      "text/plain": [
       "dict"
      ]
     },
     "execution_count": 43,
     "metadata": {},
     "output_type": "execute_result"
    }
   ],
   "source": [
    "type(_)"
   ]
  },
  {
   "cell_type": "code",
   "execution_count": 44,
   "metadata": {},
   "outputs": [
    {
     "data": {
      "text/plain": [
       "dict_keys(['subject', 'mean_std'])"
      ]
     },
     "execution_count": 44,
     "metadata": {},
     "output_type": "execute_result"
    }
   ],
   "source": [
    "_.keys()"
   ]
  },
  {
   "cell_type": "code",
   "execution_count": 45,
   "metadata": {},
   "outputs": [
    {
     "data": {
      "text/plain": [
       "dict"
      ]
     },
     "execution_count": 45,
     "metadata": {},
     "output_type": "execute_result"
    }
   ],
   "source": [
    "type(_['subject'])"
   ]
  },
  {
   "cell_type": "code",
   "execution_count": 46,
   "metadata": {},
   "outputs": [
    {
     "data": {
      "text/plain": [
       "{'subject': {},\n",
       " 'mean_std': array([[64.05142857, 45.56796158,  4.30623084, ..., 10.11193078,\n",
       "         14.8613161 , 27.88684741],\n",
       "        [60.35836735, 42.46630858,  1.99385035, ..., 12.20045591,\n",
       "         16.88477239, 29.6322452 ],\n",
       "        [54.01632653, 38.50274327,  3.87515475, ..., 11.30565109,\n",
       "         12.49418996, 23.61416966],\n",
       "        ...,\n",
       "        [25.7044898 , 43.81061756,  2.07521949, ..., 11.81046333,\n",
       "         17.9951847 , 24.72944096],\n",
       "        [47.66122449, 38.44644475,  2.15273623, ..., 11.14168826,\n",
       "         19.58015823, 28.33305771],\n",
       "        [29.19020408, 53.81177774,  3.21003514, ..., 14.18493111,\n",
       "         20.23532644, 26.27694439]])}"
      ]
     },
     "execution_count": 46,
     "metadata": {},
     "output_type": "execute_result"
    }
   ],
   "source": [
    "_"
   ]
  },
  {
   "cell_type": "code",
   "execution_count": 47,
   "metadata": {},
   "outputs": [
    {
     "data": {
      "text/plain": [
       "numpy.ndarray"
      ]
     },
     "execution_count": 47,
     "metadata": {},
     "output_type": "execute_result"
    }
   ],
   "source": [
    "type(_['mean_std'])"
   ]
  },
  {
   "cell_type": "code",
   "execution_count": 48,
   "metadata": {},
   "outputs": [
    {
     "data": {
      "text/plain": [
       "array([[64.05142857, 45.56796158,  4.30623084, ..., 10.11193078,\n",
       "        14.8613161 , 27.88684741],\n",
       "       [60.35836735, 42.46630858,  1.99385035, ..., 12.20045591,\n",
       "        16.88477239, 29.6322452 ],\n",
       "       [54.01632653, 38.50274327,  3.87515475, ..., 11.30565109,\n",
       "        12.49418996, 23.61416966],\n",
       "       ...,\n",
       "       [25.7044898 , 43.81061756,  2.07521949, ..., 11.81046333,\n",
       "        17.9951847 , 24.72944096],\n",
       "       [47.66122449, 38.44644475,  2.15273623, ..., 11.14168826,\n",
       "        19.58015823, 28.33305771],\n",
       "       [29.19020408, 53.81177774,  3.21003514, ..., 14.18493111,\n",
       "        20.23532644, 26.27694439]])"
      ]
     },
     "execution_count": 48,
     "metadata": {},
     "output_type": "execute_result"
    }
   ],
   "source": [
    "_['mean_std']"
   ]
  },
  {
   "cell_type": "code",
   "execution_count": 49,
   "metadata": {},
   "outputs": [],
   "source": [
    "df_rfcs_leaderboard_predictionresult = pd.DataFrame(data = _['mean_std'])\n",
    "df_rfcs_leaderboard_predictionresult.to_csv('결과2/rfcs_leaderboard_predictionresult.csv')"
   ]
  },
  {
   "cell_type": "code",
   "execution_count": 50,
   "metadata": {},
   "outputs": [
    {
     "name": "stdout",
     "output_type": "stream",
     "text": [
      "For subchallenge 2:\n",
      "\tScore = 7.53\n",
      "\tint_mean = 1.000\n",
      "\tint_sigma = 0.145\n",
      "\tple_mean = 0.620\n",
      "\tple_sigma = 0.171\n",
      "\tdec_mean = 0.448\n",
      "\tdec_sigma = 0.346\n"
     ]
    }
   ],
   "source": [
    "rfcs,score,rs = fit2.rfc_final(X_all,Y_all_imp['mean_std'],Y_all_mask['mean_std'],\n",
    "                            max_features,min_samples_leaf,max_depth,et,use_mask,\n",
    "                            n_estimators=n_estimators)\n",
    "\n",
    "df_rfcs = pd.DataFrame(data = rfcs)\n",
    "df_rfcs.to_csv('결과2/rfcs.csv')"
   ]
  },
  {
   "cell_type": "code",
   "execution_count": 51,
   "metadata": {},
   "outputs": [
    {
     "data": {
      "text/plain": [
       "dict_keys(['subject', 'mean_std'])"
      ]
     },
     "execution_count": 51,
     "metadata": {},
     "output_type": "execute_result"
    }
   ],
   "source": [
    "_.keys()"
   ]
  },
  {
   "cell_type": "code",
   "execution_count": 52,
   "metadata": {},
   "outputs": [
    {
     "data": {
      "text/plain": [
       "{'subject': {},\n",
       " 'mean_std': array([[64.05142857, 45.56796158,  4.30623084, ..., 10.11193078,\n",
       "         14.8613161 , 27.88684741],\n",
       "        [60.35836735, 42.46630858,  1.99385035, ..., 12.20045591,\n",
       "         16.88477239, 29.6322452 ],\n",
       "        [54.01632653, 38.50274327,  3.87515475, ..., 11.30565109,\n",
       "         12.49418996, 23.61416966],\n",
       "        ...,\n",
       "        [25.7044898 , 43.81061756,  2.07521949, ..., 11.81046333,\n",
       "         17.9951847 , 24.72944096],\n",
       "        [47.66122449, 38.44644475,  2.15273623, ..., 11.14168826,\n",
       "         19.58015823, 28.33305771],\n",
       "        [29.19020408, 53.81177774,  3.21003514, ..., 14.18493111,\n",
       "         20.23532644, 26.27694439]])}"
      ]
     },
     "execution_count": 52,
     "metadata": {},
     "output_type": "execute_result"
    }
   ],
   "source": [
    "_"
   ]
  },
  {
   "cell_type": "code",
   "execution_count": 53,
   "metadata": {},
   "outputs": [],
   "source": [
    "_ = loading.make_prediction_files(rfcs,X_testset_int,X_testset_other,'testset',2,write=False)"
   ]
  },
  {
   "cell_type": "code",
   "execution_count": 54,
   "metadata": {},
   "outputs": [],
   "source": [
    "df_rfcs_predictionresult = pd.DataFrame(data = _['mean_std'])\n",
    "df_rfcs_predictionresult.to_csv('결과2/rfcs_predictionresult.csv')"
   ]
  },
  {
   "cell_type": "code",
   "execution_count": null,
   "metadata": {},
   "outputs": [],
   "source": []
  },
  {
   "cell_type": "code",
   "execution_count": null,
   "metadata": {},
   "outputs": [],
   "source": []
  }
 ],
 "metadata": {
  "kernelspec": {
   "display_name": "Python 3",
   "language": "python",
   "name": "python3"
  },
  "language_info": {
   "codemirror_mode": {
    "name": "ipython",
    "version": 3
   },
   "file_extension": ".py",
   "mimetype": "text/x-python",
   "name": "python",
   "nbconvert_exporter": "python",
   "pygments_lexer": "ipython3",
   "version": "3.6.10"
  }
 },
 "nbformat": 4,
 "nbformat_minor": 1
}
